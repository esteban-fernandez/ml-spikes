{
 "cells": [
  {
   "cell_type": "code",
   "execution_count": 1,
   "metadata": {},
   "outputs": [],
   "source": [
    "import pandas as pd\n",
    "from surprise import Reader\n",
    "from surprise import Dataset\n",
    "from surprise.model_selection import cross_validate\n",
    "from surprise import NormalPredictor\n",
    "from surprise import KNNBasic\n",
    "from surprise import KNNWithMeans\n",
    "from surprise import KNNWithZScore\n",
    "from surprise import KNNBaseline\n",
    "from surprise import SVD\n",
    "from surprise import BaselineOnly\n",
    "from surprise import SVDpp\n",
    "from surprise import NMF\n",
    "from surprise import SlopeOne\n",
    "from surprise import CoClustering\n",
    "from surprise.accuracy import rmse\n",
    "from surprise import accuracy\n",
    "from surprise.model_selection import train_test_split\n",
    "\n",
    "from decimal import Decimal, ROUND_HALF_UP\n",
    "\n",
    "import csv"
   ]
  },
  {
   "cell_type": "code",
   "execution_count": 2,
   "metadata": {},
   "outputs": [],
   "source": [
    "### companyIdappId.csv was obtained using the following SQL query\n",
    "\n",
    "### SELECT company_id, app_editions.application_id FROM app_editions INNER JOIN \n",
    "###  (SELECT purchase_orders.company_id, app_edition_pricings.edition_id \n",
    "###  FROM purchase_orders INNER JOIN app_edition_pricings ON purchase_orders.edition_pricing_id = app_edition_pricings.id) AS fij\n",
    "###  ON app_editions.id = fij.edition_id\n",
    "\n",
    "with open('companyIDappId.csv') as csv_file:\n",
    "    csv_reader = csv.reader(csv_file, delimiter=',')\n",
    "    line_count = 0\n",
    "    new_dict = {}\n",
    "    company_licenses = {}\n",
    "\n",
    "    for row in csv_reader:\n",
    "        companyId = row[0] \n",
    "        appId = row[1]\n",
    "        if companyId in company_licenses:\n",
    "            company_licenses[companyId] += 1\n",
    "        else: \n",
    "            company_licenses[companyId] = 1\n",
    "\n",
    "        if (companyId, appId) in new_dict:\n",
    "            new_dict[(companyId, appId)] += 1\n",
    "        else:\n",
    "            new_dict[(companyId, appId)] = 1\n",
    "        line_count += 1\n",
    "    file = open(\"dataset\",\"w+\") \n",
    "    for (companyId, appId) in new_dict.keys(): \n",
    "        new_dict[(companyId, appId)] = (new_dict[(companyId, appId)] / company_licenses[companyId])\n",
    "        file.write(str(companyId) + ',' + str(appId) + ',' + str(Decimal((new_dict[(companyId, appId)] * 5)).quantize(0, ROUND_HALF_UP)) + '\\n')"
   ]
  },
  {
   "cell_type": "code",
   "execution_count": 3,
   "metadata": {},
   "outputs": [
    {
     "data": {
      "text/html": [
       "<div>\n",
       "<style scoped>\n",
       "    .dataframe tbody tr th:only-of-type {\n",
       "        vertical-align: middle;\n",
       "    }\n",
       "\n",
       "    .dataframe tbody tr th {\n",
       "        vertical-align: top;\n",
       "    }\n",
       "\n",
       "    .dataframe thead th {\n",
       "        text-align: right;\n",
       "    }\n",
       "</style>\n",
       "<table border=\"1\" class=\"dataframe\">\n",
       "  <thead>\n",
       "    <tr style=\"text-align: right;\">\n",
       "      <th></th>\n",
       "      <th>companyID</th>\n",
       "      <th>productId</th>\n",
       "      <th>inferredRating</th>\n",
       "    </tr>\n",
       "  </thead>\n",
       "  <tbody>\n",
       "    <tr>\n",
       "      <th>0</th>\n",
       "      <td>17</td>\n",
       "      <td>3</td>\n",
       "      <td>5</td>\n",
       "    </tr>\n",
       "    <tr>\n",
       "      <th>1</th>\n",
       "      <td>6</td>\n",
       "      <td>3</td>\n",
       "      <td>3</td>\n",
       "    </tr>\n",
       "    <tr>\n",
       "      <th>2</th>\n",
       "      <td>30</td>\n",
       "      <td>3</td>\n",
       "      <td>3</td>\n",
       "    </tr>\n",
       "    <tr>\n",
       "      <th>3</th>\n",
       "      <td>12</td>\n",
       "      <td>3</td>\n",
       "      <td>1</td>\n",
       "    </tr>\n",
       "    <tr>\n",
       "      <th>4</th>\n",
       "      <td>11</td>\n",
       "      <td>3</td>\n",
       "      <td>2</td>\n",
       "    </tr>\n",
       "    <tr>\n",
       "      <th>5</th>\n",
       "      <td>11</td>\n",
       "      <td>7</td>\n",
       "      <td>3</td>\n",
       "    </tr>\n",
       "    <tr>\n",
       "      <th>6</th>\n",
       "      <td>3</td>\n",
       "      <td>7</td>\n",
       "      <td>2</td>\n",
       "    </tr>\n",
       "    <tr>\n",
       "      <th>7</th>\n",
       "      <td>2</td>\n",
       "      <td>9</td>\n",
       "      <td>3</td>\n",
       "    </tr>\n",
       "    <tr>\n",
       "      <th>8</th>\n",
       "      <td>12</td>\n",
       "      <td>7</td>\n",
       "      <td>5</td>\n",
       "    </tr>\n",
       "    <tr>\n",
       "      <th>9</th>\n",
       "      <td>30</td>\n",
       "      <td>7</td>\n",
       "      <td>3</td>\n",
       "    </tr>\n",
       "    <tr>\n",
       "      <th>10</th>\n",
       "      <td>1</td>\n",
       "      <td>9</td>\n",
       "      <td>1</td>\n",
       "    </tr>\n",
       "    <tr>\n",
       "      <th>11</th>\n",
       "      <td>99</td>\n",
       "      <td>12</td>\n",
       "      <td>5</td>\n",
       "    </tr>\n",
       "    <tr>\n",
       "      <th>12</th>\n",
       "      <td>166</td>\n",
       "      <td>12</td>\n",
       "      <td>5</td>\n",
       "    </tr>\n",
       "    <tr>\n",
       "      <th>13</th>\n",
       "      <td>138</td>\n",
       "      <td>9</td>\n",
       "      <td>5</td>\n",
       "    </tr>\n",
       "    <tr>\n",
       "      <th>14</th>\n",
       "      <td>13</td>\n",
       "      <td>7</td>\n",
       "      <td>5</td>\n",
       "    </tr>\n",
       "  </tbody>\n",
       "</table>\n",
       "</div>"
      ],
      "text/plain": [
       "    companyID  productId  inferredRating\n",
       "0          17          3               5\n",
       "1           6          3               3\n",
       "2          30          3               3\n",
       "3          12          3               1\n",
       "4          11          3               2\n",
       "5          11          7               3\n",
       "6           3          7               2\n",
       "7           2          9               3\n",
       "8          12          7               5\n",
       "9          30          7               3\n",
       "10          1          9               1\n",
       "11         99         12               5\n",
       "12        166         12               5\n",
       "13        138          9               5\n",
       "14         13          7               5"
      ]
     },
     "execution_count": 3,
     "metadata": {},
     "output_type": "execute_result"
    }
   ],
   "source": [
    "df = pd.read_csv('dataset', sep=',', error_bad_lines=False, encoding=\"latin-1\")\n",
    "df.columns = ['companyID', 'productId', 'inferredRating']\n",
    "df.head(15)"
   ]
  },
  {
   "cell_type": "code",
   "execution_count": 4,
   "metadata": {},
   "outputs": [
    {
     "data": {
      "text/html": [
       "        <script type=\"text/javascript\">\n",
       "        window.PlotlyConfig = {MathJaxConfig: 'local'};\n",
       "        if (window.MathJax) {MathJax.Hub.Config({SVG: {font: \"STIX-Web\"}});}\n",
       "        if (typeof require !== 'undefined') {\n",
       "        require.undef(\"plotly\");\n",
       "        requirejs.config({\n",
       "            paths: {\n",
       "                'plotly': ['https://cdn.plot.ly/plotly-latest.min']\n",
       "            }\n",
       "        });\n",
       "        require(['plotly'], function(Plotly) {\n",
       "            window._Plotly = Plotly;\n",
       "        });\n",
       "        }\n",
       "        </script>\n",
       "        "
      ]
     },
     "metadata": {},
     "output_type": "display_data"
    },
    {
     "data": {
      "application/vnd.plotly.v1+json": {
       "config": {
        "linkText": "Export to plot.ly",
        "plotlyServerURL": "https://plot.ly",
        "showLink": false
       },
       "data": [
        {
         "text": [
          "50.0 %",
          "2.1 %",
          "10.7 %",
          "7.1 %",
          "12.3 %",
          "17.9 %"
         ],
         "textfont": {
          "color": "#000000"
         },
         "textposition": "auto",
         "type": "bar",
         "x": [
          5,
          4,
          3,
          2,
          1,
          0
         ],
         "y": [
          778,
          32,
          166,
          110,
          192,
          278
         ]
        }
       ],
       "layout": {
        "template": {
         "data": {
          "bar": [
           {
            "error_x": {
             "color": "#2a3f5f"
            },
            "error_y": {
             "color": "#2a3f5f"
            },
            "marker": {
             "line": {
              "color": "#E5ECF6",
              "width": 0.5
             }
            },
            "type": "bar"
           }
          ],
          "barpolar": [
           {
            "marker": {
             "line": {
              "color": "#E5ECF6",
              "width": 0.5
             }
            },
            "type": "barpolar"
           }
          ],
          "carpet": [
           {
            "aaxis": {
             "endlinecolor": "#2a3f5f",
             "gridcolor": "white",
             "linecolor": "white",
             "minorgridcolor": "white",
             "startlinecolor": "#2a3f5f"
            },
            "baxis": {
             "endlinecolor": "#2a3f5f",
             "gridcolor": "white",
             "linecolor": "white",
             "minorgridcolor": "white",
             "startlinecolor": "#2a3f5f"
            },
            "type": "carpet"
           }
          ],
          "choropleth": [
           {
            "colorbar": {
             "outlinewidth": 0,
             "ticks": ""
            },
            "type": "choropleth"
           }
          ],
          "contour": [
           {
            "colorbar": {
             "outlinewidth": 0,
             "ticks": ""
            },
            "colorscale": [
             [
              0,
              "#0d0887"
             ],
             [
              0.1111111111111111,
              "#46039f"
             ],
             [
              0.2222222222222222,
              "#7201a8"
             ],
             [
              0.3333333333333333,
              "#9c179e"
             ],
             [
              0.4444444444444444,
              "#bd3786"
             ],
             [
              0.5555555555555556,
              "#d8576b"
             ],
             [
              0.6666666666666666,
              "#ed7953"
             ],
             [
              0.7777777777777778,
              "#fb9f3a"
             ],
             [
              0.8888888888888888,
              "#fdca26"
             ],
             [
              1,
              "#f0f921"
             ]
            ],
            "type": "contour"
           }
          ],
          "contourcarpet": [
           {
            "colorbar": {
             "outlinewidth": 0,
             "ticks": ""
            },
            "type": "contourcarpet"
           }
          ],
          "heatmap": [
           {
            "colorbar": {
             "outlinewidth": 0,
             "ticks": ""
            },
            "colorscale": [
             [
              0,
              "#0d0887"
             ],
             [
              0.1111111111111111,
              "#46039f"
             ],
             [
              0.2222222222222222,
              "#7201a8"
             ],
             [
              0.3333333333333333,
              "#9c179e"
             ],
             [
              0.4444444444444444,
              "#bd3786"
             ],
             [
              0.5555555555555556,
              "#d8576b"
             ],
             [
              0.6666666666666666,
              "#ed7953"
             ],
             [
              0.7777777777777778,
              "#fb9f3a"
             ],
             [
              0.8888888888888888,
              "#fdca26"
             ],
             [
              1,
              "#f0f921"
             ]
            ],
            "type": "heatmap"
           }
          ],
          "heatmapgl": [
           {
            "colorbar": {
             "outlinewidth": 0,
             "ticks": ""
            },
            "colorscale": [
             [
              0,
              "#0d0887"
             ],
             [
              0.1111111111111111,
              "#46039f"
             ],
             [
              0.2222222222222222,
              "#7201a8"
             ],
             [
              0.3333333333333333,
              "#9c179e"
             ],
             [
              0.4444444444444444,
              "#bd3786"
             ],
             [
              0.5555555555555556,
              "#d8576b"
             ],
             [
              0.6666666666666666,
              "#ed7953"
             ],
             [
              0.7777777777777778,
              "#fb9f3a"
             ],
             [
              0.8888888888888888,
              "#fdca26"
             ],
             [
              1,
              "#f0f921"
             ]
            ],
            "type": "heatmapgl"
           }
          ],
          "histogram": [
           {
            "marker": {
             "colorbar": {
              "outlinewidth": 0,
              "ticks": ""
             }
            },
            "type": "histogram"
           }
          ],
          "histogram2d": [
           {
            "colorbar": {
             "outlinewidth": 0,
             "ticks": ""
            },
            "colorscale": [
             [
              0,
              "#0d0887"
             ],
             [
              0.1111111111111111,
              "#46039f"
             ],
             [
              0.2222222222222222,
              "#7201a8"
             ],
             [
              0.3333333333333333,
              "#9c179e"
             ],
             [
              0.4444444444444444,
              "#bd3786"
             ],
             [
              0.5555555555555556,
              "#d8576b"
             ],
             [
              0.6666666666666666,
              "#ed7953"
             ],
             [
              0.7777777777777778,
              "#fb9f3a"
             ],
             [
              0.8888888888888888,
              "#fdca26"
             ],
             [
              1,
              "#f0f921"
             ]
            ],
            "type": "histogram2d"
           }
          ],
          "histogram2dcontour": [
           {
            "colorbar": {
             "outlinewidth": 0,
             "ticks": ""
            },
            "colorscale": [
             [
              0,
              "#0d0887"
             ],
             [
              0.1111111111111111,
              "#46039f"
             ],
             [
              0.2222222222222222,
              "#7201a8"
             ],
             [
              0.3333333333333333,
              "#9c179e"
             ],
             [
              0.4444444444444444,
              "#bd3786"
             ],
             [
              0.5555555555555556,
              "#d8576b"
             ],
             [
              0.6666666666666666,
              "#ed7953"
             ],
             [
              0.7777777777777778,
              "#fb9f3a"
             ],
             [
              0.8888888888888888,
              "#fdca26"
             ],
             [
              1,
              "#f0f921"
             ]
            ],
            "type": "histogram2dcontour"
           }
          ],
          "mesh3d": [
           {
            "colorbar": {
             "outlinewidth": 0,
             "ticks": ""
            },
            "type": "mesh3d"
           }
          ],
          "parcoords": [
           {
            "line": {
             "colorbar": {
              "outlinewidth": 0,
              "ticks": ""
             }
            },
            "type": "parcoords"
           }
          ],
          "pie": [
           {
            "automargin": true,
            "type": "pie"
           }
          ],
          "scatter": [
           {
            "marker": {
             "colorbar": {
              "outlinewidth": 0,
              "ticks": ""
             }
            },
            "type": "scatter"
           }
          ],
          "scatter3d": [
           {
            "line": {
             "colorbar": {
              "outlinewidth": 0,
              "ticks": ""
             }
            },
            "marker": {
             "colorbar": {
              "outlinewidth": 0,
              "ticks": ""
             }
            },
            "type": "scatter3d"
           }
          ],
          "scattercarpet": [
           {
            "marker": {
             "colorbar": {
              "outlinewidth": 0,
              "ticks": ""
             }
            },
            "type": "scattercarpet"
           }
          ],
          "scattergeo": [
           {
            "marker": {
             "colorbar": {
              "outlinewidth": 0,
              "ticks": ""
             }
            },
            "type": "scattergeo"
           }
          ],
          "scattergl": [
           {
            "marker": {
             "colorbar": {
              "outlinewidth": 0,
              "ticks": ""
             }
            },
            "type": "scattergl"
           }
          ],
          "scattermapbox": [
           {
            "marker": {
             "colorbar": {
              "outlinewidth": 0,
              "ticks": ""
             }
            },
            "type": "scattermapbox"
           }
          ],
          "scatterpolar": [
           {
            "marker": {
             "colorbar": {
              "outlinewidth": 0,
              "ticks": ""
             }
            },
            "type": "scatterpolar"
           }
          ],
          "scatterpolargl": [
           {
            "marker": {
             "colorbar": {
              "outlinewidth": 0,
              "ticks": ""
             }
            },
            "type": "scatterpolargl"
           }
          ],
          "scatterternary": [
           {
            "marker": {
             "colorbar": {
              "outlinewidth": 0,
              "ticks": ""
             }
            },
            "type": "scatterternary"
           }
          ],
          "surface": [
           {
            "colorbar": {
             "outlinewidth": 0,
             "ticks": ""
            },
            "colorscale": [
             [
              0,
              "#0d0887"
             ],
             [
              0.1111111111111111,
              "#46039f"
             ],
             [
              0.2222222222222222,
              "#7201a8"
             ],
             [
              0.3333333333333333,
              "#9c179e"
             ],
             [
              0.4444444444444444,
              "#bd3786"
             ],
             [
              0.5555555555555556,
              "#d8576b"
             ],
             [
              0.6666666666666666,
              "#ed7953"
             ],
             [
              0.7777777777777778,
              "#fb9f3a"
             ],
             [
              0.8888888888888888,
              "#fdca26"
             ],
             [
              1,
              "#f0f921"
             ]
            ],
            "type": "surface"
           }
          ],
          "table": [
           {
            "cells": {
             "fill": {
              "color": "#EBF0F8"
             },
             "line": {
              "color": "white"
             }
            },
            "header": {
             "fill": {
              "color": "#C8D4E3"
             },
             "line": {
              "color": "white"
             }
            },
            "type": "table"
           }
          ]
         },
         "layout": {
          "annotationdefaults": {
           "arrowcolor": "#2a3f5f",
           "arrowhead": 0,
           "arrowwidth": 1
          },
          "coloraxis": {
           "colorbar": {
            "outlinewidth": 0,
            "ticks": ""
           }
          },
          "colorscale": {
           "diverging": [
            [
             0,
             "#8e0152"
            ],
            [
             0.1,
             "#c51b7d"
            ],
            [
             0.2,
             "#de77ae"
            ],
            [
             0.3,
             "#f1b6da"
            ],
            [
             0.4,
             "#fde0ef"
            ],
            [
             0.5,
             "#f7f7f7"
            ],
            [
             0.6,
             "#e6f5d0"
            ],
            [
             0.7,
             "#b8e186"
            ],
            [
             0.8,
             "#7fbc41"
            ],
            [
             0.9,
             "#4d9221"
            ],
            [
             1,
             "#276419"
            ]
           ],
           "sequential": [
            [
             0,
             "#0d0887"
            ],
            [
             0.1111111111111111,
             "#46039f"
            ],
            [
             0.2222222222222222,
             "#7201a8"
            ],
            [
             0.3333333333333333,
             "#9c179e"
            ],
            [
             0.4444444444444444,
             "#bd3786"
            ],
            [
             0.5555555555555556,
             "#d8576b"
            ],
            [
             0.6666666666666666,
             "#ed7953"
            ],
            [
             0.7777777777777778,
             "#fb9f3a"
            ],
            [
             0.8888888888888888,
             "#fdca26"
            ],
            [
             1,
             "#f0f921"
            ]
           ],
           "sequentialminus": [
            [
             0,
             "#0d0887"
            ],
            [
             0.1111111111111111,
             "#46039f"
            ],
            [
             0.2222222222222222,
             "#7201a8"
            ],
            [
             0.3333333333333333,
             "#9c179e"
            ],
            [
             0.4444444444444444,
             "#bd3786"
            ],
            [
             0.5555555555555556,
             "#d8576b"
            ],
            [
             0.6666666666666666,
             "#ed7953"
            ],
            [
             0.7777777777777778,
             "#fb9f3a"
            ],
            [
             0.8888888888888888,
             "#fdca26"
            ],
            [
             1,
             "#f0f921"
            ]
           ]
          },
          "colorway": [
           "#636efa",
           "#EF553B",
           "#00cc96",
           "#ab63fa",
           "#FFA15A",
           "#19d3f3",
           "#FF6692",
           "#B6E880",
           "#FF97FF",
           "#FECB52"
          ],
          "font": {
           "color": "#2a3f5f"
          },
          "geo": {
           "bgcolor": "white",
           "lakecolor": "white",
           "landcolor": "#E5ECF6",
           "showlakes": true,
           "showland": true,
           "subunitcolor": "white"
          },
          "hoverlabel": {
           "align": "left"
          },
          "hovermode": "closest",
          "mapbox": {
           "style": "light"
          },
          "paper_bgcolor": "white",
          "plot_bgcolor": "#E5ECF6",
          "polar": {
           "angularaxis": {
            "gridcolor": "white",
            "linecolor": "white",
            "ticks": ""
           },
           "bgcolor": "#E5ECF6",
           "radialaxis": {
            "gridcolor": "white",
            "linecolor": "white",
            "ticks": ""
           }
          },
          "scene": {
           "xaxis": {
            "backgroundcolor": "#E5ECF6",
            "gridcolor": "white",
            "gridwidth": 2,
            "linecolor": "white",
            "showbackground": true,
            "ticks": "",
            "zerolinecolor": "white"
           },
           "yaxis": {
            "backgroundcolor": "#E5ECF6",
            "gridcolor": "white",
            "gridwidth": 2,
            "linecolor": "white",
            "showbackground": true,
            "ticks": "",
            "zerolinecolor": "white"
           },
           "zaxis": {
            "backgroundcolor": "#E5ECF6",
            "gridcolor": "white",
            "gridwidth": 2,
            "linecolor": "white",
            "showbackground": true,
            "ticks": "",
            "zerolinecolor": "white"
           }
          },
          "shapedefaults": {
           "line": {
            "color": "#2a3f5f"
           }
          },
          "ternary": {
           "aaxis": {
            "gridcolor": "white",
            "linecolor": "white",
            "ticks": ""
           },
           "baxis": {
            "gridcolor": "white",
            "linecolor": "white",
            "ticks": ""
           },
           "bgcolor": "#E5ECF6",
           "caxis": {
            "gridcolor": "white",
            "linecolor": "white",
            "ticks": ""
           }
          },
          "title": {
           "x": 0.05
          },
          "xaxis": {
           "automargin": true,
           "gridcolor": "white",
           "linecolor": "white",
           "ticks": "",
           "title": {
            "standoff": 15
           },
           "zerolinecolor": "white",
           "zerolinewidth": 2
          },
          "yaxis": {
           "automargin": true,
           "gridcolor": "white",
           "linecolor": "white",
           "ticks": "",
           "title": {
            "standoff": 15
           },
           "zerolinecolor": "white",
           "zerolinewidth": 2
          }
         }
        },
        "title": {
         "text": "Distribution Of 1556 product-ratings"
        },
        "xaxis": {
         "title": {
          "text": "Rating"
         }
        },
        "yaxis": {
         "title": {
          "text": "Count"
         }
        }
       }
      },
      "text/html": [
       "<div>\n",
       "        \n",
       "        \n",
       "            <div id=\"7dd624e3-fa5e-48b8-b725-105777057d73\" class=\"plotly-graph-div\" style=\"height:525px; width:100%;\"></div>\n",
       "            <script type=\"text/javascript\">\n",
       "                require([\"plotly\"], function(Plotly) {\n",
       "                    window.PLOTLYENV=window.PLOTLYENV || {};\n",
       "                    \n",
       "                if (document.getElementById(\"7dd624e3-fa5e-48b8-b725-105777057d73\")) {\n",
       "                    Plotly.newPlot(\n",
       "                        '7dd624e3-fa5e-48b8-b725-105777057d73',\n",
       "                        [{\"text\": [\"50.0 %\", \"2.1 %\", \"10.7 %\", \"7.1 %\", \"12.3 %\", \"17.9 %\"], \"textfont\": {\"color\": \"#000000\"}, \"textposition\": \"auto\", \"type\": \"bar\", \"x\": [5, 4, 3, 2, 1, 0], \"y\": [778, 32, 166, 110, 192, 278]}],\n",
       "                        {\"template\": {\"data\": {\"bar\": [{\"error_x\": {\"color\": \"#2a3f5f\"}, \"error_y\": {\"color\": \"#2a3f5f\"}, \"marker\": {\"line\": {\"color\": \"#E5ECF6\", \"width\": 0.5}}, \"type\": \"bar\"}], \"barpolar\": [{\"marker\": {\"line\": {\"color\": \"#E5ECF6\", \"width\": 0.5}}, \"type\": \"barpolar\"}], \"carpet\": [{\"aaxis\": {\"endlinecolor\": \"#2a3f5f\", \"gridcolor\": \"white\", \"linecolor\": \"white\", \"minorgridcolor\": \"white\", \"startlinecolor\": \"#2a3f5f\"}, \"baxis\": {\"endlinecolor\": \"#2a3f5f\", \"gridcolor\": \"white\", \"linecolor\": \"white\", \"minorgridcolor\": \"white\", \"startlinecolor\": \"#2a3f5f\"}, \"type\": \"carpet\"}], \"choropleth\": [{\"colorbar\": {\"outlinewidth\": 0, \"ticks\": \"\"}, \"type\": \"choropleth\"}], \"contour\": [{\"colorbar\": {\"outlinewidth\": 0, \"ticks\": \"\"}, \"colorscale\": [[0.0, \"#0d0887\"], [0.1111111111111111, \"#46039f\"], [0.2222222222222222, \"#7201a8\"], [0.3333333333333333, \"#9c179e\"], [0.4444444444444444, \"#bd3786\"], [0.5555555555555556, \"#d8576b\"], [0.6666666666666666, \"#ed7953\"], [0.7777777777777778, \"#fb9f3a\"], [0.8888888888888888, \"#fdca26\"], [1.0, \"#f0f921\"]], \"type\": \"contour\"}], \"contourcarpet\": [{\"colorbar\": {\"outlinewidth\": 0, \"ticks\": \"\"}, \"type\": \"contourcarpet\"}], \"heatmap\": [{\"colorbar\": {\"outlinewidth\": 0, \"ticks\": \"\"}, \"colorscale\": [[0.0, \"#0d0887\"], [0.1111111111111111, \"#46039f\"], [0.2222222222222222, \"#7201a8\"], [0.3333333333333333, \"#9c179e\"], [0.4444444444444444, \"#bd3786\"], [0.5555555555555556, \"#d8576b\"], [0.6666666666666666, \"#ed7953\"], [0.7777777777777778, \"#fb9f3a\"], [0.8888888888888888, \"#fdca26\"], [1.0, \"#f0f921\"]], \"type\": \"heatmap\"}], \"heatmapgl\": [{\"colorbar\": {\"outlinewidth\": 0, \"ticks\": \"\"}, \"colorscale\": [[0.0, \"#0d0887\"], [0.1111111111111111, \"#46039f\"], [0.2222222222222222, \"#7201a8\"], [0.3333333333333333, \"#9c179e\"], [0.4444444444444444, \"#bd3786\"], [0.5555555555555556, \"#d8576b\"], [0.6666666666666666, \"#ed7953\"], [0.7777777777777778, \"#fb9f3a\"], [0.8888888888888888, \"#fdca26\"], [1.0, \"#f0f921\"]], \"type\": \"heatmapgl\"}], \"histogram\": [{\"marker\": {\"colorbar\": {\"outlinewidth\": 0, \"ticks\": \"\"}}, \"type\": \"histogram\"}], \"histogram2d\": [{\"colorbar\": {\"outlinewidth\": 0, \"ticks\": \"\"}, \"colorscale\": [[0.0, \"#0d0887\"], [0.1111111111111111, \"#46039f\"], [0.2222222222222222, \"#7201a8\"], [0.3333333333333333, \"#9c179e\"], [0.4444444444444444, \"#bd3786\"], [0.5555555555555556, \"#d8576b\"], [0.6666666666666666, \"#ed7953\"], [0.7777777777777778, \"#fb9f3a\"], [0.8888888888888888, \"#fdca26\"], [1.0, \"#f0f921\"]], \"type\": \"histogram2d\"}], \"histogram2dcontour\": [{\"colorbar\": {\"outlinewidth\": 0, \"ticks\": \"\"}, \"colorscale\": [[0.0, \"#0d0887\"], [0.1111111111111111, \"#46039f\"], [0.2222222222222222, \"#7201a8\"], [0.3333333333333333, \"#9c179e\"], [0.4444444444444444, \"#bd3786\"], [0.5555555555555556, \"#d8576b\"], [0.6666666666666666, \"#ed7953\"], [0.7777777777777778, \"#fb9f3a\"], [0.8888888888888888, \"#fdca26\"], [1.0, \"#f0f921\"]], \"type\": \"histogram2dcontour\"}], \"mesh3d\": [{\"colorbar\": {\"outlinewidth\": 0, \"ticks\": \"\"}, \"type\": \"mesh3d\"}], \"parcoords\": [{\"line\": {\"colorbar\": {\"outlinewidth\": 0, \"ticks\": \"\"}}, \"type\": \"parcoords\"}], \"pie\": [{\"automargin\": true, \"type\": \"pie\"}], \"scatter\": [{\"marker\": {\"colorbar\": {\"outlinewidth\": 0, \"ticks\": \"\"}}, \"type\": \"scatter\"}], \"scatter3d\": [{\"line\": {\"colorbar\": {\"outlinewidth\": 0, \"ticks\": \"\"}}, \"marker\": {\"colorbar\": {\"outlinewidth\": 0, \"ticks\": \"\"}}, \"type\": \"scatter3d\"}], \"scattercarpet\": [{\"marker\": {\"colorbar\": {\"outlinewidth\": 0, \"ticks\": \"\"}}, \"type\": \"scattercarpet\"}], \"scattergeo\": [{\"marker\": {\"colorbar\": {\"outlinewidth\": 0, \"ticks\": \"\"}}, \"type\": \"scattergeo\"}], \"scattergl\": [{\"marker\": {\"colorbar\": {\"outlinewidth\": 0, \"ticks\": \"\"}}, \"type\": \"scattergl\"}], \"scattermapbox\": [{\"marker\": {\"colorbar\": {\"outlinewidth\": 0, \"ticks\": \"\"}}, \"type\": \"scattermapbox\"}], \"scatterpolar\": [{\"marker\": {\"colorbar\": {\"outlinewidth\": 0, \"ticks\": \"\"}}, \"type\": \"scatterpolar\"}], \"scatterpolargl\": [{\"marker\": {\"colorbar\": {\"outlinewidth\": 0, \"ticks\": \"\"}}, \"type\": \"scatterpolargl\"}], \"scatterternary\": [{\"marker\": {\"colorbar\": {\"outlinewidth\": 0, \"ticks\": \"\"}}, \"type\": \"scatterternary\"}], \"surface\": [{\"colorbar\": {\"outlinewidth\": 0, \"ticks\": \"\"}, \"colorscale\": [[0.0, \"#0d0887\"], [0.1111111111111111, \"#46039f\"], [0.2222222222222222, \"#7201a8\"], [0.3333333333333333, \"#9c179e\"], [0.4444444444444444, \"#bd3786\"], [0.5555555555555556, \"#d8576b\"], [0.6666666666666666, \"#ed7953\"], [0.7777777777777778, \"#fb9f3a\"], [0.8888888888888888, \"#fdca26\"], [1.0, \"#f0f921\"]], \"type\": \"surface\"}], \"table\": [{\"cells\": {\"fill\": {\"color\": \"#EBF0F8\"}, \"line\": {\"color\": \"white\"}}, \"header\": {\"fill\": {\"color\": \"#C8D4E3\"}, \"line\": {\"color\": \"white\"}}, \"type\": \"table\"}]}, \"layout\": {\"annotationdefaults\": {\"arrowcolor\": \"#2a3f5f\", \"arrowhead\": 0, \"arrowwidth\": 1}, \"coloraxis\": {\"colorbar\": {\"outlinewidth\": 0, \"ticks\": \"\"}}, \"colorscale\": {\"diverging\": [[0, \"#8e0152\"], [0.1, \"#c51b7d\"], [0.2, \"#de77ae\"], [0.3, \"#f1b6da\"], [0.4, \"#fde0ef\"], [0.5, \"#f7f7f7\"], [0.6, \"#e6f5d0\"], [0.7, \"#b8e186\"], [0.8, \"#7fbc41\"], [0.9, \"#4d9221\"], [1, \"#276419\"]], \"sequential\": [[0.0, \"#0d0887\"], [0.1111111111111111, \"#46039f\"], [0.2222222222222222, \"#7201a8\"], [0.3333333333333333, \"#9c179e\"], [0.4444444444444444, \"#bd3786\"], [0.5555555555555556, \"#d8576b\"], [0.6666666666666666, \"#ed7953\"], [0.7777777777777778, \"#fb9f3a\"], [0.8888888888888888, \"#fdca26\"], [1.0, \"#f0f921\"]], \"sequentialminus\": [[0.0, \"#0d0887\"], [0.1111111111111111, \"#46039f\"], [0.2222222222222222, \"#7201a8\"], [0.3333333333333333, \"#9c179e\"], [0.4444444444444444, \"#bd3786\"], [0.5555555555555556, \"#d8576b\"], [0.6666666666666666, \"#ed7953\"], [0.7777777777777778, \"#fb9f3a\"], [0.8888888888888888, \"#fdca26\"], [1.0, \"#f0f921\"]]}, \"colorway\": [\"#636efa\", \"#EF553B\", \"#00cc96\", \"#ab63fa\", \"#FFA15A\", \"#19d3f3\", \"#FF6692\", \"#B6E880\", \"#FF97FF\", \"#FECB52\"], \"font\": {\"color\": \"#2a3f5f\"}, \"geo\": {\"bgcolor\": \"white\", \"lakecolor\": \"white\", \"landcolor\": \"#E5ECF6\", \"showlakes\": true, \"showland\": true, \"subunitcolor\": \"white\"}, \"hoverlabel\": {\"align\": \"left\"}, \"hovermode\": \"closest\", \"mapbox\": {\"style\": \"light\"}, \"paper_bgcolor\": \"white\", \"plot_bgcolor\": \"#E5ECF6\", \"polar\": {\"angularaxis\": {\"gridcolor\": \"white\", \"linecolor\": \"white\", \"ticks\": \"\"}, \"bgcolor\": \"#E5ECF6\", \"radialaxis\": {\"gridcolor\": \"white\", \"linecolor\": \"white\", \"ticks\": \"\"}}, \"scene\": {\"xaxis\": {\"backgroundcolor\": \"#E5ECF6\", \"gridcolor\": \"white\", \"gridwidth\": 2, \"linecolor\": \"white\", \"showbackground\": true, \"ticks\": \"\", \"zerolinecolor\": \"white\"}, \"yaxis\": {\"backgroundcolor\": \"#E5ECF6\", \"gridcolor\": \"white\", \"gridwidth\": 2, \"linecolor\": \"white\", \"showbackground\": true, \"ticks\": \"\", \"zerolinecolor\": \"white\"}, \"zaxis\": {\"backgroundcolor\": \"#E5ECF6\", \"gridcolor\": \"white\", \"gridwidth\": 2, \"linecolor\": \"white\", \"showbackground\": true, \"ticks\": \"\", \"zerolinecolor\": \"white\"}}, \"shapedefaults\": {\"line\": {\"color\": \"#2a3f5f\"}}, \"ternary\": {\"aaxis\": {\"gridcolor\": \"white\", \"linecolor\": \"white\", \"ticks\": \"\"}, \"baxis\": {\"gridcolor\": \"white\", \"linecolor\": \"white\", \"ticks\": \"\"}, \"bgcolor\": \"#E5ECF6\", \"caxis\": {\"gridcolor\": \"white\", \"linecolor\": \"white\", \"ticks\": \"\"}}, \"title\": {\"x\": 0.05}, \"xaxis\": {\"automargin\": true, \"gridcolor\": \"white\", \"linecolor\": \"white\", \"ticks\": \"\", \"title\": {\"standoff\": 15}, \"zerolinecolor\": \"white\", \"zerolinewidth\": 2}, \"yaxis\": {\"automargin\": true, \"gridcolor\": \"white\", \"linecolor\": \"white\", \"ticks\": \"\", \"title\": {\"standoff\": 15}, \"zerolinecolor\": \"white\", \"zerolinewidth\": 2}}}, \"title\": {\"text\": \"Distribution Of 1556 product-ratings\"}, \"xaxis\": {\"title\": {\"text\": \"Rating\"}}, \"yaxis\": {\"title\": {\"text\": \"Count\"}}},\n",
       "                        {\"responsive\": true}\n",
       "                    ).then(function(){\n",
       "                            \n",
       "var gd = document.getElementById('7dd624e3-fa5e-48b8-b725-105777057d73');\n",
       "var x = new MutationObserver(function (mutations, observer) {{\n",
       "        var display = window.getComputedStyle(gd).display;\n",
       "        if (!display || display === 'none') {{\n",
       "            console.log([gd, 'removed!']);\n",
       "            Plotly.purge(gd);\n",
       "            observer.disconnect();\n",
       "        }}\n",
       "}});\n",
       "\n",
       "// Listen for the removal of the full notebook cells\n",
       "var notebookContainer = gd.closest('#notebook-container');\n",
       "if (notebookContainer) {{\n",
       "    x.observe(notebookContainer, {childList: true});\n",
       "}}\n",
       "\n",
       "// Listen for the clearing of the current output cell\n",
       "var outputEl = gd.closest('.output');\n",
       "if (outputEl) {{\n",
       "    x.observe(outputEl, {childList: true});\n",
       "}}\n",
       "\n",
       "                        })\n",
       "                };\n",
       "                });\n",
       "            </script>\n",
       "        </div>"
      ]
     },
     "metadata": {},
     "output_type": "display_data"
    }
   ],
   "source": [
    "from plotly.offline import init_notebook_mode, plot, iplot\n",
    "import plotly.graph_objs as go\n",
    "init_notebook_mode(connected=True)\n",
    "\n",
    "data = df['inferredRating'].value_counts().sort_index(ascending=False)\n",
    "trace = go.Bar(x = data.index,\n",
    "               text = ['{:.1f} %'.format(val) for val in (data.values / df.shape[0] * 100)],\n",
    "               textposition = 'auto',\n",
    "               textfont = dict(color = '#000000'),\n",
    "               y = data.values,\n",
    "               )\n",
    "# Create layout\n",
    "layout = dict(title = 'Distribution Of {} product-ratings'.format(df.shape[0]),\n",
    "              xaxis = dict(title = 'Rating'),\n",
    "              yaxis = dict(title = 'Count'))\n",
    "# Create plot\n",
    "fig = go.Figure(data=[trace], layout=layout)\n",
    "iplot(fig)"
   ]
  },
  {
   "cell_type": "code",
   "execution_count": 5,
   "metadata": {},
   "outputs": [
    {
     "data": {
      "application/vnd.plotly.v1+json": {
       "config": {
        "linkText": "Export to plot.ly",
        "plotlyServerURL": "https://plot.ly",
        "showLink": false
       },
       "data": [
        {
         "name": "Ratings",
         "type": "histogram",
         "x": [
          49,
          2,
          1,
          7,
          2,
          2,
          2,
          1,
          1,
          1,
          2,
          1,
          2,
          1,
          1,
          19,
          1,
          1,
          1,
          1,
          1,
          1,
          1,
          2,
          2,
          1,
          1,
          1,
          1,
          1,
          1,
          1,
          1,
          1,
          1,
          1,
          1,
          1,
          1,
          1,
          1,
          1,
          1,
          1,
          1,
          1,
          1,
          1,
          1,
          2,
          1,
          1,
          1,
          1,
          1,
          1,
          1,
          3,
          1,
          1,
          1,
          1,
          1,
          1,
          1,
          1,
          1,
          1,
          1,
          2,
          5,
          1,
          1,
          1,
          1,
          6,
          2,
          1,
          1,
          1,
          1,
          1,
          1,
          1,
          1,
          1,
          1,
          1,
          3,
          1,
          1,
          10,
          1,
          2,
          9,
          1,
          1,
          1,
          1,
          1,
          1,
          1,
          4,
          1,
          1,
          1,
          2,
          1,
          1,
          1,
          1,
          1,
          1,
          1,
          1,
          1,
          1,
          1,
          1,
          1,
          1,
          1,
          2,
          1,
          1,
          1,
          1,
          1,
          2,
          2,
          1,
          1,
          1,
          1,
          3,
          1,
          1,
          9,
          1,
          6,
          1,
          1,
          1,
          1,
          1,
          1,
          3,
          1,
          3,
          1,
          1,
          1,
          1,
          1,
          1,
          1,
          1,
          1,
          2,
          1,
          1,
          1,
          1,
          1,
          1,
          1,
          19,
          1,
          1,
          1,
          1,
          1,
          1,
          3,
          3,
          1,
          1,
          1,
          1,
          1,
          1,
          1,
          1,
          1,
          3,
          1,
          1,
          1,
          1,
          1,
          1,
          1,
          1,
          1,
          1,
          1,
          1,
          2,
          1,
          2,
          1,
          1,
          1,
          1,
          1,
          1,
          7,
          1,
          1,
          1,
          2,
          1,
          1,
          1,
          3,
          1,
          5,
          1,
          6,
          3,
          1,
          1,
          1,
          1,
          1,
          1,
          3,
          1,
          1,
          1,
          3,
          3,
          3,
          2,
          3,
          2,
          3,
          3,
          4,
          1,
          1,
          1,
          1,
          2,
          2,
          1,
          1,
          1,
          1,
          1,
          1,
          1,
          1,
          1,
          3,
          1,
          1,
          1,
          1,
          1,
          1,
          1,
          1,
          1,
          2,
          50,
          1,
          1,
          1,
          1,
          1,
          1,
          2,
          1,
          1,
          3,
          3,
          1,
          1,
          2,
          1,
          1,
          1,
          1,
          1,
          1,
          1,
          1,
          1,
          1,
          1,
          1,
          1,
          1,
          1,
          2,
          1,
          2,
          2,
          1,
          1,
          1,
          1,
          1,
          1,
          1,
          11,
          1,
          3,
          1,
          1,
          2,
          1,
          2,
          2,
          1,
          6,
          2,
          1,
          1,
          1,
          1,
          2,
          1,
          1,
          2,
          1,
          1,
          1,
          1,
          1,
          1,
          2,
          2,
          1,
          1,
          1,
          1,
          1,
          1,
          1,
          1,
          1,
          1,
          1,
          1,
          1,
          1,
          2,
          1,
          1,
          1,
          1,
          1,
          1,
          1,
          1,
          3,
          34,
          1,
          6,
          1,
          1,
          2,
          1,
          2,
          3,
          2,
          1,
          1,
          1,
          1,
          1,
          2,
          2,
          2,
          3,
          3,
          1,
          1,
          3,
          1,
          1,
          1,
          1,
          1,
          1,
          5,
          1,
          1,
          1,
          22,
          1,
          1,
          1,
          3,
          1,
          1,
          1,
          1,
          1,
          1,
          1,
          1,
          1,
          1,
          1,
          1,
          1,
          1,
          1,
          1,
          1,
          1,
          1,
          1,
          1,
          1,
          1,
          1,
          1,
          2,
          1,
          1,
          1,
          1,
          1,
          1,
          1,
          1,
          2,
          3,
          2,
          1,
          1,
          1,
          1,
          1,
          1,
          1,
          1,
          1,
          1,
          1,
          1,
          1,
          1,
          1,
          2,
          1,
          1,
          1,
          1,
          1,
          1,
          1,
          1,
          4,
          2,
          1,
          1,
          1,
          1,
          17,
          3,
          1,
          3,
          1,
          1,
          2,
          1,
          1,
          1,
          1,
          1,
          1,
          1,
          1,
          1,
          2,
          1,
          2,
          1,
          1,
          1,
          1,
          1,
          1,
          1,
          1,
          1,
          2,
          1,
          1,
          1,
          1,
          1,
          1,
          1,
          1,
          1,
          1,
          1,
          1,
          1,
          5,
          1,
          1,
          1,
          1,
          1,
          1,
          1,
          1,
          1,
          2,
          1,
          1,
          1,
          1,
          1,
          1,
          1,
          2,
          1,
          2,
          1,
          1,
          3,
          1,
          1,
          1,
          1,
          1,
          2,
          1,
          2,
          2,
          6,
          1,
          1,
          1,
          1,
          2,
          2,
          1,
          1,
          1,
          1,
          1,
          1,
          1,
          1,
          1,
          1,
          1,
          1,
          1,
          1,
          1,
          5,
          1,
          1,
          2,
          1,
          1,
          2,
          3,
          1,
          1,
          1,
          1,
          2,
          1,
          1,
          1,
          1,
          1,
          1,
          1,
          1,
          2,
          1,
          1,
          3,
          1,
          1,
          1,
          1,
          1,
          3,
          1,
          1,
          2,
          1,
          1,
          1,
          5,
          1,
          5,
          1,
          1,
          2,
          1,
          1,
          1,
          1,
          1,
          5,
          7,
          4,
          1,
          4,
          1,
          1,
          1,
          1,
          1,
          1,
          1,
          1,
          1,
          1,
          1,
          1,
          2,
          2,
          1,
          2,
          1,
          1,
          1,
          1,
          3,
          2,
          1,
          1,
          1,
          1,
          2,
          1,
          1,
          1,
          1,
          1,
          1,
          2,
          1,
          1,
          1,
          1,
          1,
          1,
          1,
          1,
          1,
          1,
          1,
          1,
          1,
          1,
          1,
          1,
          1,
          1,
          1,
          1,
          1,
          1,
          1,
          1,
          1,
          1,
          1,
          1,
          1,
          1,
          1,
          1,
          1,
          2,
          2,
          1,
          1,
          1,
          1,
          1,
          1,
          1,
          1,
          1,
          1,
          3,
          1,
          1,
          1,
          1,
          1,
          1,
          1,
          1,
          2,
          2,
          1,
          1,
          2,
          1,
          1,
          1,
          1,
          1,
          1,
          1,
          1,
          1,
          1,
          1,
          1,
          1,
          1,
          1,
          1,
          1,
          1,
          1,
          1,
          1,
          1,
          1,
          1,
          1,
          1,
          1,
          1,
          1,
          1,
          1,
          1,
          1,
          2,
          1,
          1,
          1,
          1,
          1,
          1,
          1,
          1,
          1,
          1,
          1,
          1,
          1,
          1,
          1,
          1,
          1,
          2,
          1,
          1,
          1,
          1,
          2,
          1,
          1,
          1,
          1,
          1,
          1,
          1,
          1,
          1,
          1,
          1,
          2,
          1,
          1,
          2,
          1,
          1,
          1,
          2,
          1,
          1,
          2,
          2,
          1,
          1,
          1,
          1,
          1,
          1,
          1,
          1,
          1,
          1,
          2,
          1,
          2,
          2,
          1,
          1,
          1,
          2,
          2,
          1,
          1,
          1,
          2,
          1,
          1,
          1,
          3,
          3,
          1,
          1,
          6,
          1,
          1,
          1,
          1,
          1,
          1,
          1,
          2,
          1,
          1,
          1,
          1,
          1,
          1,
          1,
          1,
          1,
          1,
          1,
          1,
          2,
          1,
          1,
          1,
          1,
          1,
          2,
          2,
          3,
          1,
          1,
          2,
          4,
          1,
          1,
          1,
          1,
          1,
          1,
          1,
          1,
          1,
          1,
          2,
          1,
          1,
          1,
          1,
          1,
          1,
          1,
          1,
          2,
          1,
          1,
          2,
          1,
          1,
          1,
          1,
          1,
          1,
          1,
          1,
          1,
          1,
          1,
          1,
          1,
          1,
          1,
          1,
          1,
          1,
          1,
          1,
          4,
          1,
          1,
          1,
          2,
          1,
          1,
          2,
          1,
          1,
          1,
          2,
          2,
          2,
          2,
          2,
          2,
          2,
          1,
          1,
          1,
          2,
          1,
          1,
          1,
          1,
          1,
          1,
          1,
          1,
          1,
          2,
          3,
          1,
          1,
          1,
          1,
          2,
          1,
          1,
          1,
          1,
          1,
          1,
          1,
          1,
          1,
          2,
          1,
          1,
          1,
          1,
          1,
          1,
          1,
          1,
          1,
          2,
          1,
          2,
          1,
          1,
          1,
          2,
          1,
          1,
          2,
          5,
          1,
          1,
          1,
          1,
          1,
          1,
          1,
          1,
          4,
          1,
          1,
          1,
          3,
          1,
          1,
          1,
          1,
          1,
          1,
          1,
          1,
          1,
          1,
          2,
          2,
          4,
          3,
          1,
          1,
          1,
          1
         ],
         "xbins": {
          "end": 50,
          "size": 2,
          "start": 0
         }
        }
       ],
       "layout": {
        "bargap": 0.2,
        "template": {
         "data": {
          "bar": [
           {
            "error_x": {
             "color": "#2a3f5f"
            },
            "error_y": {
             "color": "#2a3f5f"
            },
            "marker": {
             "line": {
              "color": "#E5ECF6",
              "width": 0.5
             }
            },
            "type": "bar"
           }
          ],
          "barpolar": [
           {
            "marker": {
             "line": {
              "color": "#E5ECF6",
              "width": 0.5
             }
            },
            "type": "barpolar"
           }
          ],
          "carpet": [
           {
            "aaxis": {
             "endlinecolor": "#2a3f5f",
             "gridcolor": "white",
             "linecolor": "white",
             "minorgridcolor": "white",
             "startlinecolor": "#2a3f5f"
            },
            "baxis": {
             "endlinecolor": "#2a3f5f",
             "gridcolor": "white",
             "linecolor": "white",
             "minorgridcolor": "white",
             "startlinecolor": "#2a3f5f"
            },
            "type": "carpet"
           }
          ],
          "choropleth": [
           {
            "colorbar": {
             "outlinewidth": 0,
             "ticks": ""
            },
            "type": "choropleth"
           }
          ],
          "contour": [
           {
            "colorbar": {
             "outlinewidth": 0,
             "ticks": ""
            },
            "colorscale": [
             [
              0,
              "#0d0887"
             ],
             [
              0.1111111111111111,
              "#46039f"
             ],
             [
              0.2222222222222222,
              "#7201a8"
             ],
             [
              0.3333333333333333,
              "#9c179e"
             ],
             [
              0.4444444444444444,
              "#bd3786"
             ],
             [
              0.5555555555555556,
              "#d8576b"
             ],
             [
              0.6666666666666666,
              "#ed7953"
             ],
             [
              0.7777777777777778,
              "#fb9f3a"
             ],
             [
              0.8888888888888888,
              "#fdca26"
             ],
             [
              1,
              "#f0f921"
             ]
            ],
            "type": "contour"
           }
          ],
          "contourcarpet": [
           {
            "colorbar": {
             "outlinewidth": 0,
             "ticks": ""
            },
            "type": "contourcarpet"
           }
          ],
          "heatmap": [
           {
            "colorbar": {
             "outlinewidth": 0,
             "ticks": ""
            },
            "colorscale": [
             [
              0,
              "#0d0887"
             ],
             [
              0.1111111111111111,
              "#46039f"
             ],
             [
              0.2222222222222222,
              "#7201a8"
             ],
             [
              0.3333333333333333,
              "#9c179e"
             ],
             [
              0.4444444444444444,
              "#bd3786"
             ],
             [
              0.5555555555555556,
              "#d8576b"
             ],
             [
              0.6666666666666666,
              "#ed7953"
             ],
             [
              0.7777777777777778,
              "#fb9f3a"
             ],
             [
              0.8888888888888888,
              "#fdca26"
             ],
             [
              1,
              "#f0f921"
             ]
            ],
            "type": "heatmap"
           }
          ],
          "heatmapgl": [
           {
            "colorbar": {
             "outlinewidth": 0,
             "ticks": ""
            },
            "colorscale": [
             [
              0,
              "#0d0887"
             ],
             [
              0.1111111111111111,
              "#46039f"
             ],
             [
              0.2222222222222222,
              "#7201a8"
             ],
             [
              0.3333333333333333,
              "#9c179e"
             ],
             [
              0.4444444444444444,
              "#bd3786"
             ],
             [
              0.5555555555555556,
              "#d8576b"
             ],
             [
              0.6666666666666666,
              "#ed7953"
             ],
             [
              0.7777777777777778,
              "#fb9f3a"
             ],
             [
              0.8888888888888888,
              "#fdca26"
             ],
             [
              1,
              "#f0f921"
             ]
            ],
            "type": "heatmapgl"
           }
          ],
          "histogram": [
           {
            "marker": {
             "colorbar": {
              "outlinewidth": 0,
              "ticks": ""
             }
            },
            "type": "histogram"
           }
          ],
          "histogram2d": [
           {
            "colorbar": {
             "outlinewidth": 0,
             "ticks": ""
            },
            "colorscale": [
             [
              0,
              "#0d0887"
             ],
             [
              0.1111111111111111,
              "#46039f"
             ],
             [
              0.2222222222222222,
              "#7201a8"
             ],
             [
              0.3333333333333333,
              "#9c179e"
             ],
             [
              0.4444444444444444,
              "#bd3786"
             ],
             [
              0.5555555555555556,
              "#d8576b"
             ],
             [
              0.6666666666666666,
              "#ed7953"
             ],
             [
              0.7777777777777778,
              "#fb9f3a"
             ],
             [
              0.8888888888888888,
              "#fdca26"
             ],
             [
              1,
              "#f0f921"
             ]
            ],
            "type": "histogram2d"
           }
          ],
          "histogram2dcontour": [
           {
            "colorbar": {
             "outlinewidth": 0,
             "ticks": ""
            },
            "colorscale": [
             [
              0,
              "#0d0887"
             ],
             [
              0.1111111111111111,
              "#46039f"
             ],
             [
              0.2222222222222222,
              "#7201a8"
             ],
             [
              0.3333333333333333,
              "#9c179e"
             ],
             [
              0.4444444444444444,
              "#bd3786"
             ],
             [
              0.5555555555555556,
              "#d8576b"
             ],
             [
              0.6666666666666666,
              "#ed7953"
             ],
             [
              0.7777777777777778,
              "#fb9f3a"
             ],
             [
              0.8888888888888888,
              "#fdca26"
             ],
             [
              1,
              "#f0f921"
             ]
            ],
            "type": "histogram2dcontour"
           }
          ],
          "mesh3d": [
           {
            "colorbar": {
             "outlinewidth": 0,
             "ticks": ""
            },
            "type": "mesh3d"
           }
          ],
          "parcoords": [
           {
            "line": {
             "colorbar": {
              "outlinewidth": 0,
              "ticks": ""
             }
            },
            "type": "parcoords"
           }
          ],
          "pie": [
           {
            "automargin": true,
            "type": "pie"
           }
          ],
          "scatter": [
           {
            "marker": {
             "colorbar": {
              "outlinewidth": 0,
              "ticks": ""
             }
            },
            "type": "scatter"
           }
          ],
          "scatter3d": [
           {
            "line": {
             "colorbar": {
              "outlinewidth": 0,
              "ticks": ""
             }
            },
            "marker": {
             "colorbar": {
              "outlinewidth": 0,
              "ticks": ""
             }
            },
            "type": "scatter3d"
           }
          ],
          "scattercarpet": [
           {
            "marker": {
             "colorbar": {
              "outlinewidth": 0,
              "ticks": ""
             }
            },
            "type": "scattercarpet"
           }
          ],
          "scattergeo": [
           {
            "marker": {
             "colorbar": {
              "outlinewidth": 0,
              "ticks": ""
             }
            },
            "type": "scattergeo"
           }
          ],
          "scattergl": [
           {
            "marker": {
             "colorbar": {
              "outlinewidth": 0,
              "ticks": ""
             }
            },
            "type": "scattergl"
           }
          ],
          "scattermapbox": [
           {
            "marker": {
             "colorbar": {
              "outlinewidth": 0,
              "ticks": ""
             }
            },
            "type": "scattermapbox"
           }
          ],
          "scatterpolar": [
           {
            "marker": {
             "colorbar": {
              "outlinewidth": 0,
              "ticks": ""
             }
            },
            "type": "scatterpolar"
           }
          ],
          "scatterpolargl": [
           {
            "marker": {
             "colorbar": {
              "outlinewidth": 0,
              "ticks": ""
             }
            },
            "type": "scatterpolargl"
           }
          ],
          "scatterternary": [
           {
            "marker": {
             "colorbar": {
              "outlinewidth": 0,
              "ticks": ""
             }
            },
            "type": "scatterternary"
           }
          ],
          "surface": [
           {
            "colorbar": {
             "outlinewidth": 0,
             "ticks": ""
            },
            "colorscale": [
             [
              0,
              "#0d0887"
             ],
             [
              0.1111111111111111,
              "#46039f"
             ],
             [
              0.2222222222222222,
              "#7201a8"
             ],
             [
              0.3333333333333333,
              "#9c179e"
             ],
             [
              0.4444444444444444,
              "#bd3786"
             ],
             [
              0.5555555555555556,
              "#d8576b"
             ],
             [
              0.6666666666666666,
              "#ed7953"
             ],
             [
              0.7777777777777778,
              "#fb9f3a"
             ],
             [
              0.8888888888888888,
              "#fdca26"
             ],
             [
              1,
              "#f0f921"
             ]
            ],
            "type": "surface"
           }
          ],
          "table": [
           {
            "cells": {
             "fill": {
              "color": "#EBF0F8"
             },
             "line": {
              "color": "white"
             }
            },
            "header": {
             "fill": {
              "color": "#C8D4E3"
             },
             "line": {
              "color": "white"
             }
            },
            "type": "table"
           }
          ]
         },
         "layout": {
          "annotationdefaults": {
           "arrowcolor": "#2a3f5f",
           "arrowhead": 0,
           "arrowwidth": 1
          },
          "coloraxis": {
           "colorbar": {
            "outlinewidth": 0,
            "ticks": ""
           }
          },
          "colorscale": {
           "diverging": [
            [
             0,
             "#8e0152"
            ],
            [
             0.1,
             "#c51b7d"
            ],
            [
             0.2,
             "#de77ae"
            ],
            [
             0.3,
             "#f1b6da"
            ],
            [
             0.4,
             "#fde0ef"
            ],
            [
             0.5,
             "#f7f7f7"
            ],
            [
             0.6,
             "#e6f5d0"
            ],
            [
             0.7,
             "#b8e186"
            ],
            [
             0.8,
             "#7fbc41"
            ],
            [
             0.9,
             "#4d9221"
            ],
            [
             1,
             "#276419"
            ]
           ],
           "sequential": [
            [
             0,
             "#0d0887"
            ],
            [
             0.1111111111111111,
             "#46039f"
            ],
            [
             0.2222222222222222,
             "#7201a8"
            ],
            [
             0.3333333333333333,
             "#9c179e"
            ],
            [
             0.4444444444444444,
             "#bd3786"
            ],
            [
             0.5555555555555556,
             "#d8576b"
            ],
            [
             0.6666666666666666,
             "#ed7953"
            ],
            [
             0.7777777777777778,
             "#fb9f3a"
            ],
            [
             0.8888888888888888,
             "#fdca26"
            ],
            [
             1,
             "#f0f921"
            ]
           ],
           "sequentialminus": [
            [
             0,
             "#0d0887"
            ],
            [
             0.1111111111111111,
             "#46039f"
            ],
            [
             0.2222222222222222,
             "#7201a8"
            ],
            [
             0.3333333333333333,
             "#9c179e"
            ],
            [
             0.4444444444444444,
             "#bd3786"
            ],
            [
             0.5555555555555556,
             "#d8576b"
            ],
            [
             0.6666666666666666,
             "#ed7953"
            ],
            [
             0.7777777777777778,
             "#fb9f3a"
            ],
            [
             0.8888888888888888,
             "#fdca26"
            ],
            [
             1,
             "#f0f921"
            ]
           ]
          },
          "colorway": [
           "#636efa",
           "#EF553B",
           "#00cc96",
           "#ab63fa",
           "#FFA15A",
           "#19d3f3",
           "#FF6692",
           "#B6E880",
           "#FF97FF",
           "#FECB52"
          ],
          "font": {
           "color": "#2a3f5f"
          },
          "geo": {
           "bgcolor": "white",
           "lakecolor": "white",
           "landcolor": "#E5ECF6",
           "showlakes": true,
           "showland": true,
           "subunitcolor": "white"
          },
          "hoverlabel": {
           "align": "left"
          },
          "hovermode": "closest",
          "mapbox": {
           "style": "light"
          },
          "paper_bgcolor": "white",
          "plot_bgcolor": "#E5ECF6",
          "polar": {
           "angularaxis": {
            "gridcolor": "white",
            "linecolor": "white",
            "ticks": ""
           },
           "bgcolor": "#E5ECF6",
           "radialaxis": {
            "gridcolor": "white",
            "linecolor": "white",
            "ticks": ""
           }
          },
          "scene": {
           "xaxis": {
            "backgroundcolor": "#E5ECF6",
            "gridcolor": "white",
            "gridwidth": 2,
            "linecolor": "white",
            "showbackground": true,
            "ticks": "",
            "zerolinecolor": "white"
           },
           "yaxis": {
            "backgroundcolor": "#E5ECF6",
            "gridcolor": "white",
            "gridwidth": 2,
            "linecolor": "white",
            "showbackground": true,
            "ticks": "",
            "zerolinecolor": "white"
           },
           "zaxis": {
            "backgroundcolor": "#E5ECF6",
            "gridcolor": "white",
            "gridwidth": 2,
            "linecolor": "white",
            "showbackground": true,
            "ticks": "",
            "zerolinecolor": "white"
           }
          },
          "shapedefaults": {
           "line": {
            "color": "#2a3f5f"
           }
          },
          "ternary": {
           "aaxis": {
            "gridcolor": "white",
            "linecolor": "white",
            "ticks": ""
           },
           "baxis": {
            "gridcolor": "white",
            "linecolor": "white",
            "ticks": ""
           },
           "bgcolor": "#E5ECF6",
           "caxis": {
            "gridcolor": "white",
            "linecolor": "white",
            "ticks": ""
           }
          },
          "title": {
           "x": 0.05
          },
          "xaxis": {
           "automargin": true,
           "gridcolor": "white",
           "linecolor": "white",
           "ticks": "",
           "title": {
            "standoff": 15
           },
           "zerolinecolor": "white",
           "zerolinewidth": 2
          },
          "yaxis": {
           "automargin": true,
           "gridcolor": "white",
           "linecolor": "white",
           "ticks": "",
           "title": {
            "standoff": 15
           },
           "zerolinecolor": "white",
           "zerolinewidth": 2
          }
         }
        },
        "title": {
         "text": "Distribution Of Number of Ratings Per Company (Clipped at 50)"
        },
        "xaxis": {
         "title": {
          "text": "Ratings Per Company"
         }
        },
        "yaxis": {
         "title": {
          "text": "Count"
         }
        }
       }
      },
      "text/html": [
       "<div>\n",
       "        \n",
       "        \n",
       "            <div id=\"f77d3a91-e263-4491-bf4c-a617319fab08\" class=\"plotly-graph-div\" style=\"height:525px; width:100%;\"></div>\n",
       "            <script type=\"text/javascript\">\n",
       "                require([\"plotly\"], function(Plotly) {\n",
       "                    window.PLOTLYENV=window.PLOTLYENV || {};\n",
       "                    \n",
       "                if (document.getElementById(\"f77d3a91-e263-4491-bf4c-a617319fab08\")) {\n",
       "                    Plotly.newPlot(\n",
       "                        'f77d3a91-e263-4491-bf4c-a617319fab08',\n",
       "                        [{\"name\": \"Ratings\", \"type\": \"histogram\", \"x\": [49, 2, 1, 7, 2, 2, 2, 1, 1, 1, 2, 1, 2, 1, 1, 19, 1, 1, 1, 1, 1, 1, 1, 2, 2, 1, 1, 1, 1, 1, 1, 1, 1, 1, 1, 1, 1, 1, 1, 1, 1, 1, 1, 1, 1, 1, 1, 1, 1, 2, 1, 1, 1, 1, 1, 1, 1, 3, 1, 1, 1, 1, 1, 1, 1, 1, 1, 1, 1, 2, 5, 1, 1, 1, 1, 6, 2, 1, 1, 1, 1, 1, 1, 1, 1, 1, 1, 1, 3, 1, 1, 10, 1, 2, 9, 1, 1, 1, 1, 1, 1, 1, 4, 1, 1, 1, 2, 1, 1, 1, 1, 1, 1, 1, 1, 1, 1, 1, 1, 1, 1, 1, 2, 1, 1, 1, 1, 1, 2, 2, 1, 1, 1, 1, 3, 1, 1, 9, 1, 6, 1, 1, 1, 1, 1, 1, 3, 1, 3, 1, 1, 1, 1, 1, 1, 1, 1, 1, 2, 1, 1, 1, 1, 1, 1, 1, 19, 1, 1, 1, 1, 1, 1, 3, 3, 1, 1, 1, 1, 1, 1, 1, 1, 1, 3, 1, 1, 1, 1, 1, 1, 1, 1, 1, 1, 1, 1, 2, 1, 2, 1, 1, 1, 1, 1, 1, 7, 1, 1, 1, 2, 1, 1, 1, 3, 1, 5, 1, 6, 3, 1, 1, 1, 1, 1, 1, 3, 1, 1, 1, 3, 3, 3, 2, 3, 2, 3, 3, 4, 1, 1, 1, 1, 2, 2, 1, 1, 1, 1, 1, 1, 1, 1, 1, 3, 1, 1, 1, 1, 1, 1, 1, 1, 1, 2, 50, 1, 1, 1, 1, 1, 1, 2, 1, 1, 3, 3, 1, 1, 2, 1, 1, 1, 1, 1, 1, 1, 1, 1, 1, 1, 1, 1, 1, 1, 2, 1, 2, 2, 1, 1, 1, 1, 1, 1, 1, 11, 1, 3, 1, 1, 2, 1, 2, 2, 1, 6, 2, 1, 1, 1, 1, 2, 1, 1, 2, 1, 1, 1, 1, 1, 1, 2, 2, 1, 1, 1, 1, 1, 1, 1, 1, 1, 1, 1, 1, 1, 1, 2, 1, 1, 1, 1, 1, 1, 1, 1, 3, 34, 1, 6, 1, 1, 2, 1, 2, 3, 2, 1, 1, 1, 1, 1, 2, 2, 2, 3, 3, 1, 1, 3, 1, 1, 1, 1, 1, 1, 5, 1, 1, 1, 22, 1, 1, 1, 3, 1, 1, 1, 1, 1, 1, 1, 1, 1, 1, 1, 1, 1, 1, 1, 1, 1, 1, 1, 1, 1, 1, 1, 1, 1, 2, 1, 1, 1, 1, 1, 1, 1, 1, 2, 3, 2, 1, 1, 1, 1, 1, 1, 1, 1, 1, 1, 1, 1, 1, 1, 1, 2, 1, 1, 1, 1, 1, 1, 1, 1, 4, 2, 1, 1, 1, 1, 17, 3, 1, 3, 1, 1, 2, 1, 1, 1, 1, 1, 1, 1, 1, 1, 2, 1, 2, 1, 1, 1, 1, 1, 1, 1, 1, 1, 2, 1, 1, 1, 1, 1, 1, 1, 1, 1, 1, 1, 1, 1, 5, 1, 1, 1, 1, 1, 1, 1, 1, 1, 2, 1, 1, 1, 1, 1, 1, 1, 2, 1, 2, 1, 1, 3, 1, 1, 1, 1, 1, 2, 1, 2, 2, 6, 1, 1, 1, 1, 2, 2, 1, 1, 1, 1, 1, 1, 1, 1, 1, 1, 1, 1, 1, 1, 1, 5, 1, 1, 2, 1, 1, 2, 3, 1, 1, 1, 1, 2, 1, 1, 1, 1, 1, 1, 1, 1, 2, 1, 1, 3, 1, 1, 1, 1, 1, 3, 1, 1, 2, 1, 1, 1, 5, 1, 5, 1, 1, 2, 1, 1, 1, 1, 1, 5, 7, 4, 1, 4, 1, 1, 1, 1, 1, 1, 1, 1, 1, 1, 1, 1, 2, 2, 1, 2, 1, 1, 1, 1, 3, 2, 1, 1, 1, 1, 2, 1, 1, 1, 1, 1, 1, 2, 1, 1, 1, 1, 1, 1, 1, 1, 1, 1, 1, 1, 1, 1, 1, 1, 1, 1, 1, 1, 1, 1, 1, 1, 1, 1, 1, 1, 1, 1, 1, 1, 1, 2, 2, 1, 1, 1, 1, 1, 1, 1, 1, 1, 1, 3, 1, 1, 1, 1, 1, 1, 1, 1, 2, 2, 1, 1, 2, 1, 1, 1, 1, 1, 1, 1, 1, 1, 1, 1, 1, 1, 1, 1, 1, 1, 1, 1, 1, 1, 1, 1, 1, 1, 1, 1, 1, 1, 1, 1, 1, 1, 2, 1, 1, 1, 1, 1, 1, 1, 1, 1, 1, 1, 1, 1, 1, 1, 1, 1, 2, 1, 1, 1, 1, 2, 1, 1, 1, 1, 1, 1, 1, 1, 1, 1, 1, 2, 1, 1, 2, 1, 1, 1, 2, 1, 1, 2, 2, 1, 1, 1, 1, 1, 1, 1, 1, 1, 1, 2, 1, 2, 2, 1, 1, 1, 2, 2, 1, 1, 1, 2, 1, 1, 1, 3, 3, 1, 1, 6, 1, 1, 1, 1, 1, 1, 1, 2, 1, 1, 1, 1, 1, 1, 1, 1, 1, 1, 1, 1, 2, 1, 1, 1, 1, 1, 2, 2, 3, 1, 1, 2, 4, 1, 1, 1, 1, 1, 1, 1, 1, 1, 1, 2, 1, 1, 1, 1, 1, 1, 1, 1, 2, 1, 1, 2, 1, 1, 1, 1, 1, 1, 1, 1, 1, 1, 1, 1, 1, 1, 1, 1, 1, 1, 1, 1, 4, 1, 1, 1, 2, 1, 1, 2, 1, 1, 1, 2, 2, 2, 2, 2, 2, 2, 1, 1, 1, 2, 1, 1, 1, 1, 1, 1, 1, 1, 1, 2, 3, 1, 1, 1, 1, 2, 1, 1, 1, 1, 1, 1, 1, 1, 1, 2, 1, 1, 1, 1, 1, 1, 1, 1, 1, 2, 1, 2, 1, 1, 1, 2, 1, 1, 2, 5, 1, 1, 1, 1, 1, 1, 1, 1, 4, 1, 1, 1, 3, 1, 1, 1, 1, 1, 1, 1, 1, 1, 1, 2, 2, 4, 3, 1, 1, 1, 1], \"xbins\": {\"end\": 50, \"size\": 2, \"start\": 0}}],\n",
       "                        {\"bargap\": 0.2, \"template\": {\"data\": {\"bar\": [{\"error_x\": {\"color\": \"#2a3f5f\"}, \"error_y\": {\"color\": \"#2a3f5f\"}, \"marker\": {\"line\": {\"color\": \"#E5ECF6\", \"width\": 0.5}}, \"type\": \"bar\"}], \"barpolar\": [{\"marker\": {\"line\": {\"color\": \"#E5ECF6\", \"width\": 0.5}}, \"type\": \"barpolar\"}], \"carpet\": [{\"aaxis\": {\"endlinecolor\": \"#2a3f5f\", \"gridcolor\": \"white\", \"linecolor\": \"white\", \"minorgridcolor\": \"white\", \"startlinecolor\": \"#2a3f5f\"}, \"baxis\": {\"endlinecolor\": \"#2a3f5f\", \"gridcolor\": \"white\", \"linecolor\": \"white\", \"minorgridcolor\": \"white\", \"startlinecolor\": \"#2a3f5f\"}, \"type\": \"carpet\"}], \"choropleth\": [{\"colorbar\": {\"outlinewidth\": 0, \"ticks\": \"\"}, \"type\": \"choropleth\"}], \"contour\": [{\"colorbar\": {\"outlinewidth\": 0, \"ticks\": \"\"}, \"colorscale\": [[0.0, \"#0d0887\"], [0.1111111111111111, \"#46039f\"], [0.2222222222222222, \"#7201a8\"], [0.3333333333333333, \"#9c179e\"], [0.4444444444444444, \"#bd3786\"], [0.5555555555555556, \"#d8576b\"], [0.6666666666666666, \"#ed7953\"], [0.7777777777777778, \"#fb9f3a\"], [0.8888888888888888, \"#fdca26\"], [1.0, \"#f0f921\"]], \"type\": \"contour\"}], \"contourcarpet\": [{\"colorbar\": {\"outlinewidth\": 0, \"ticks\": \"\"}, \"type\": \"contourcarpet\"}], \"heatmap\": [{\"colorbar\": {\"outlinewidth\": 0, \"ticks\": \"\"}, \"colorscale\": [[0.0, \"#0d0887\"], [0.1111111111111111, \"#46039f\"], [0.2222222222222222, \"#7201a8\"], [0.3333333333333333, \"#9c179e\"], [0.4444444444444444, \"#bd3786\"], [0.5555555555555556, \"#d8576b\"], [0.6666666666666666, \"#ed7953\"], [0.7777777777777778, \"#fb9f3a\"], [0.8888888888888888, \"#fdca26\"], [1.0, \"#f0f921\"]], \"type\": \"heatmap\"}], \"heatmapgl\": [{\"colorbar\": {\"outlinewidth\": 0, \"ticks\": \"\"}, \"colorscale\": [[0.0, \"#0d0887\"], [0.1111111111111111, \"#46039f\"], [0.2222222222222222, \"#7201a8\"], [0.3333333333333333, \"#9c179e\"], [0.4444444444444444, \"#bd3786\"], [0.5555555555555556, \"#d8576b\"], [0.6666666666666666, \"#ed7953\"], [0.7777777777777778, \"#fb9f3a\"], [0.8888888888888888, \"#fdca26\"], [1.0, \"#f0f921\"]], \"type\": \"heatmapgl\"}], \"histogram\": [{\"marker\": {\"colorbar\": {\"outlinewidth\": 0, \"ticks\": \"\"}}, \"type\": \"histogram\"}], \"histogram2d\": [{\"colorbar\": {\"outlinewidth\": 0, \"ticks\": \"\"}, \"colorscale\": [[0.0, \"#0d0887\"], [0.1111111111111111, \"#46039f\"], [0.2222222222222222, \"#7201a8\"], [0.3333333333333333, \"#9c179e\"], [0.4444444444444444, \"#bd3786\"], [0.5555555555555556, \"#d8576b\"], [0.6666666666666666, \"#ed7953\"], [0.7777777777777778, \"#fb9f3a\"], [0.8888888888888888, \"#fdca26\"], [1.0, \"#f0f921\"]], \"type\": \"histogram2d\"}], \"histogram2dcontour\": [{\"colorbar\": {\"outlinewidth\": 0, \"ticks\": \"\"}, \"colorscale\": [[0.0, \"#0d0887\"], [0.1111111111111111, \"#46039f\"], [0.2222222222222222, \"#7201a8\"], [0.3333333333333333, \"#9c179e\"], [0.4444444444444444, \"#bd3786\"], [0.5555555555555556, \"#d8576b\"], [0.6666666666666666, \"#ed7953\"], [0.7777777777777778, \"#fb9f3a\"], [0.8888888888888888, \"#fdca26\"], [1.0, \"#f0f921\"]], \"type\": \"histogram2dcontour\"}], \"mesh3d\": [{\"colorbar\": {\"outlinewidth\": 0, \"ticks\": \"\"}, \"type\": \"mesh3d\"}], \"parcoords\": [{\"line\": {\"colorbar\": {\"outlinewidth\": 0, \"ticks\": \"\"}}, \"type\": \"parcoords\"}], \"pie\": [{\"automargin\": true, \"type\": \"pie\"}], \"scatter\": [{\"marker\": {\"colorbar\": {\"outlinewidth\": 0, \"ticks\": \"\"}}, \"type\": \"scatter\"}], \"scatter3d\": [{\"line\": {\"colorbar\": {\"outlinewidth\": 0, \"ticks\": \"\"}}, \"marker\": {\"colorbar\": {\"outlinewidth\": 0, \"ticks\": \"\"}}, \"type\": \"scatter3d\"}], \"scattercarpet\": [{\"marker\": {\"colorbar\": {\"outlinewidth\": 0, \"ticks\": \"\"}}, \"type\": \"scattercarpet\"}], \"scattergeo\": [{\"marker\": {\"colorbar\": {\"outlinewidth\": 0, \"ticks\": \"\"}}, \"type\": \"scattergeo\"}], \"scattergl\": [{\"marker\": {\"colorbar\": {\"outlinewidth\": 0, \"ticks\": \"\"}}, \"type\": \"scattergl\"}], \"scattermapbox\": [{\"marker\": {\"colorbar\": {\"outlinewidth\": 0, \"ticks\": \"\"}}, \"type\": \"scattermapbox\"}], \"scatterpolar\": [{\"marker\": {\"colorbar\": {\"outlinewidth\": 0, \"ticks\": \"\"}}, \"type\": \"scatterpolar\"}], \"scatterpolargl\": [{\"marker\": {\"colorbar\": {\"outlinewidth\": 0, \"ticks\": \"\"}}, \"type\": \"scatterpolargl\"}], \"scatterternary\": [{\"marker\": {\"colorbar\": {\"outlinewidth\": 0, \"ticks\": \"\"}}, \"type\": \"scatterternary\"}], \"surface\": [{\"colorbar\": {\"outlinewidth\": 0, \"ticks\": \"\"}, \"colorscale\": [[0.0, \"#0d0887\"], [0.1111111111111111, \"#46039f\"], [0.2222222222222222, \"#7201a8\"], [0.3333333333333333, \"#9c179e\"], [0.4444444444444444, \"#bd3786\"], [0.5555555555555556, \"#d8576b\"], [0.6666666666666666, \"#ed7953\"], [0.7777777777777778, \"#fb9f3a\"], [0.8888888888888888, \"#fdca26\"], [1.0, \"#f0f921\"]], \"type\": \"surface\"}], \"table\": [{\"cells\": {\"fill\": {\"color\": \"#EBF0F8\"}, \"line\": {\"color\": \"white\"}}, \"header\": {\"fill\": {\"color\": \"#C8D4E3\"}, \"line\": {\"color\": \"white\"}}, \"type\": \"table\"}]}, \"layout\": {\"annotationdefaults\": {\"arrowcolor\": \"#2a3f5f\", \"arrowhead\": 0, \"arrowwidth\": 1}, \"coloraxis\": {\"colorbar\": {\"outlinewidth\": 0, \"ticks\": \"\"}}, \"colorscale\": {\"diverging\": [[0, \"#8e0152\"], [0.1, \"#c51b7d\"], [0.2, \"#de77ae\"], [0.3, \"#f1b6da\"], [0.4, \"#fde0ef\"], [0.5, \"#f7f7f7\"], [0.6, \"#e6f5d0\"], [0.7, \"#b8e186\"], [0.8, \"#7fbc41\"], [0.9, \"#4d9221\"], [1, \"#276419\"]], \"sequential\": [[0.0, \"#0d0887\"], [0.1111111111111111, \"#46039f\"], [0.2222222222222222, \"#7201a8\"], [0.3333333333333333, \"#9c179e\"], [0.4444444444444444, \"#bd3786\"], [0.5555555555555556, \"#d8576b\"], [0.6666666666666666, \"#ed7953\"], [0.7777777777777778, \"#fb9f3a\"], [0.8888888888888888, \"#fdca26\"], [1.0, \"#f0f921\"]], \"sequentialminus\": [[0.0, \"#0d0887\"], [0.1111111111111111, \"#46039f\"], [0.2222222222222222, \"#7201a8\"], [0.3333333333333333, \"#9c179e\"], [0.4444444444444444, \"#bd3786\"], [0.5555555555555556, \"#d8576b\"], [0.6666666666666666, \"#ed7953\"], [0.7777777777777778, \"#fb9f3a\"], [0.8888888888888888, \"#fdca26\"], [1.0, \"#f0f921\"]]}, \"colorway\": [\"#636efa\", \"#EF553B\", \"#00cc96\", \"#ab63fa\", \"#FFA15A\", \"#19d3f3\", \"#FF6692\", \"#B6E880\", \"#FF97FF\", \"#FECB52\"], \"font\": {\"color\": \"#2a3f5f\"}, \"geo\": {\"bgcolor\": \"white\", \"lakecolor\": \"white\", \"landcolor\": \"#E5ECF6\", \"showlakes\": true, \"showland\": true, \"subunitcolor\": \"white\"}, \"hoverlabel\": {\"align\": \"left\"}, \"hovermode\": \"closest\", \"mapbox\": {\"style\": \"light\"}, \"paper_bgcolor\": \"white\", \"plot_bgcolor\": \"#E5ECF6\", \"polar\": {\"angularaxis\": {\"gridcolor\": \"white\", \"linecolor\": \"white\", \"ticks\": \"\"}, \"bgcolor\": \"#E5ECF6\", \"radialaxis\": {\"gridcolor\": \"white\", \"linecolor\": \"white\", \"ticks\": \"\"}}, \"scene\": {\"xaxis\": {\"backgroundcolor\": \"#E5ECF6\", \"gridcolor\": \"white\", \"gridwidth\": 2, \"linecolor\": \"white\", \"showbackground\": true, \"ticks\": \"\", \"zerolinecolor\": \"white\"}, \"yaxis\": {\"backgroundcolor\": \"#E5ECF6\", \"gridcolor\": \"white\", \"gridwidth\": 2, \"linecolor\": \"white\", \"showbackground\": true, \"ticks\": \"\", \"zerolinecolor\": \"white\"}, \"zaxis\": {\"backgroundcolor\": \"#E5ECF6\", \"gridcolor\": \"white\", \"gridwidth\": 2, \"linecolor\": \"white\", \"showbackground\": true, \"ticks\": \"\", \"zerolinecolor\": \"white\"}}, \"shapedefaults\": {\"line\": {\"color\": \"#2a3f5f\"}}, \"ternary\": {\"aaxis\": {\"gridcolor\": \"white\", \"linecolor\": \"white\", \"ticks\": \"\"}, \"baxis\": {\"gridcolor\": \"white\", \"linecolor\": \"white\", \"ticks\": \"\"}, \"bgcolor\": \"#E5ECF6\", \"caxis\": {\"gridcolor\": \"white\", \"linecolor\": \"white\", \"ticks\": \"\"}}, \"title\": {\"x\": 0.05}, \"xaxis\": {\"automargin\": true, \"gridcolor\": \"white\", \"linecolor\": \"white\", \"ticks\": \"\", \"title\": {\"standoff\": 15}, \"zerolinecolor\": \"white\", \"zerolinewidth\": 2}, \"yaxis\": {\"automargin\": true, \"gridcolor\": \"white\", \"linecolor\": \"white\", \"ticks\": \"\", \"title\": {\"standoff\": 15}, \"zerolinecolor\": \"white\", \"zerolinewidth\": 2}}}, \"title\": {\"text\": \"Distribution Of Number of Ratings Per Company (Clipped at 50)\"}, \"xaxis\": {\"title\": {\"text\": \"Ratings Per Company\"}}, \"yaxis\": {\"title\": {\"text\": \"Count\"}}},\n",
       "                        {\"responsive\": true}\n",
       "                    ).then(function(){\n",
       "                            \n",
       "var gd = document.getElementById('f77d3a91-e263-4491-bf4c-a617319fab08');\n",
       "var x = new MutationObserver(function (mutations, observer) {{\n",
       "        var display = window.getComputedStyle(gd).display;\n",
       "        if (!display || display === 'none') {{\n",
       "            console.log([gd, 'removed!']);\n",
       "            Plotly.purge(gd);\n",
       "            observer.disconnect();\n",
       "        }}\n",
       "}});\n",
       "\n",
       "// Listen for the removal of the full notebook cells\n",
       "var notebookContainer = gd.closest('#notebook-container');\n",
       "if (notebookContainer) {{\n",
       "    x.observe(notebookContainer, {childList: true});\n",
       "}}\n",
       "\n",
       "// Listen for the clearing of the current output cell\n",
       "var outputEl = gd.closest('.output');\n",
       "if (outputEl) {{\n",
       "    x.observe(outputEl, {childList: true});\n",
       "}}\n",
       "\n",
       "                        })\n",
       "                };\n",
       "                });\n",
       "            </script>\n",
       "        </div>"
      ]
     },
     "metadata": {},
     "output_type": "display_data"
    }
   ],
   "source": [
    "# Number of ratings per company\n",
    "data = df.groupby('companyID')['inferredRating'].count().clip(upper=50)\n",
    "\n",
    "# Create trace\n",
    "trace = go.Histogram(x = data.values,\n",
    "                     name = 'Ratings',\n",
    "                     xbins = dict(start = 0,\n",
    "                                  end = 50,\n",
    "                                  size = 2))\n",
    "# Create layout\n",
    "layout = go.Layout(title = 'Distribution Of Number of Ratings Per Company (Clipped at 50)',\n",
    "                   xaxis = dict(title = 'Ratings Per Company'),\n",
    "                   yaxis = dict(title = 'Count'),\n",
    "                   bargap = 0.2)\n",
    "\n",
    "# Create plot\n",
    "fig = go.Figure(data=[trace], layout=layout)\n",
    "iplot(fig)\n"
   ]
  },
  {
   "cell_type": "code",
   "execution_count": 6,
   "metadata": {},
   "outputs": [],
   "source": [
    "reader = Reader(rating_scale=(0, 9))\n",
    "data = Dataset.load_from_df(df[['companyID', 'productId', 'inferredRating']], reader)"
   ]
  },
  {
   "cell_type": "code",
   "execution_count": 7,
   "metadata": {},
   "outputs": [
    {
     "name": "stdout",
     "output_type": "stream",
     "text": [
      "Estimating biases using als...\n",
      "Computing the msd similarity matrix...\n",
      "Done computing similarity matrix.\n",
      "Estimating biases using als...\n",
      "Computing the msd similarity matrix...\n",
      "Done computing similarity matrix.\n",
      "Estimating biases using als...\n",
      "Computing the msd similarity matrix...\n",
      "Done computing similarity matrix.\n",
      "Computing the msd similarity matrix...\n",
      "Done computing similarity matrix.\n",
      "Computing the msd similarity matrix...\n",
      "Done computing similarity matrix.\n",
      "Computing the msd similarity matrix...\n",
      "Done computing similarity matrix.\n",
      "Computing the msd similarity matrix...\n",
      "Done computing similarity matrix.\n",
      "Computing the msd similarity matrix...\n",
      "Done computing similarity matrix.\n",
      "Computing the msd similarity matrix...\n",
      "Done computing similarity matrix.\n",
      "Computing the msd similarity matrix...\n",
      "Done computing similarity matrix.\n",
      "Computing the msd similarity matrix...\n",
      "Done computing similarity matrix.\n",
      "Computing the msd similarity matrix...\n",
      "Done computing similarity matrix.\n",
      "Estimating biases using als...\n",
      "Estimating biases using als...\n",
      "Estimating biases using als...\n"
     ]
    },
    {
     "data": {
      "text/html": [
       "<div>\n",
       "<style scoped>\n",
       "    .dataframe tbody tr th:only-of-type {\n",
       "        vertical-align: middle;\n",
       "    }\n",
       "\n",
       "    .dataframe tbody tr th {\n",
       "        vertical-align: top;\n",
       "    }\n",
       "\n",
       "    .dataframe thead th {\n",
       "        text-align: right;\n",
       "    }\n",
       "</style>\n",
       "<table border=\"1\" class=\"dataframe\">\n",
       "  <thead>\n",
       "    <tr style=\"text-align: right;\">\n",
       "      <th></th>\n",
       "      <th>test_rmse</th>\n",
       "      <th>fit_time</th>\n",
       "      <th>test_time</th>\n",
       "    </tr>\n",
       "    <tr>\n",
       "      <th>Algorithm</th>\n",
       "      <th></th>\n",
       "      <th></th>\n",
       "      <th></th>\n",
       "    </tr>\n",
       "  </thead>\n",
       "  <tbody>\n",
       "    <tr>\n",
       "      <th>SVD</th>\n",
       "      <td>1.393792</td>\n",
       "      <td>0.070417</td>\n",
       "      <td>0.004374</td>\n",
       "    </tr>\n",
       "    <tr>\n",
       "      <th>KNNBaseline</th>\n",
       "      <td>1.405188</td>\n",
       "      <td>0.017765</td>\n",
       "      <td>0.008926</td>\n",
       "    </tr>\n",
       "    <tr>\n",
       "      <th>SVDpp</th>\n",
       "      <td>1.477513</td>\n",
       "      <td>0.210903</td>\n",
       "      <td>0.006043</td>\n",
       "    </tr>\n",
       "    <tr>\n",
       "      <th>BaselineOnly</th>\n",
       "      <td>1.496463</td>\n",
       "      <td>0.003261</td>\n",
       "      <td>0.003701</td>\n",
       "    </tr>\n",
       "    <tr>\n",
       "      <th>NMF</th>\n",
       "      <td>1.919383</td>\n",
       "      <td>0.153037</td>\n",
       "      <td>0.003998</td>\n",
       "    </tr>\n",
       "    <tr>\n",
       "      <th>KNNWithMeans</th>\n",
       "      <td>1.931324</td>\n",
       "      <td>0.021301</td>\n",
       "      <td>0.029507</td>\n",
       "    </tr>\n",
       "    <tr>\n",
       "      <th>KNNWithZScore</th>\n",
       "      <td>1.932458</td>\n",
       "      <td>0.042610</td>\n",
       "      <td>0.009573</td>\n",
       "    </tr>\n",
       "    <tr>\n",
       "      <th>SlopeOne</th>\n",
       "      <td>1.949127</td>\n",
       "      <td>0.011803</td>\n",
       "      <td>0.004350</td>\n",
       "    </tr>\n",
       "    <tr>\n",
       "      <th>CoClustering</th>\n",
       "      <td>1.962576</td>\n",
       "      <td>0.120127</td>\n",
       "      <td>0.003607</td>\n",
       "    </tr>\n",
       "    <tr>\n",
       "      <th>KNNBasic</th>\n",
       "      <td>1.965589</td>\n",
       "      <td>0.012929</td>\n",
       "      <td>0.007509</td>\n",
       "    </tr>\n",
       "    <tr>\n",
       "      <th>NormalPredictor</th>\n",
       "      <td>2.871344</td>\n",
       "      <td>0.001633</td>\n",
       "      <td>0.003994</td>\n",
       "    </tr>\n",
       "  </tbody>\n",
       "</table>\n",
       "</div>"
      ],
      "text/plain": [
       "                 test_rmse  fit_time  test_time\n",
       "Algorithm                                      \n",
       "SVD               1.393792  0.070417   0.004374\n",
       "KNNBaseline       1.405188  0.017765   0.008926\n",
       "SVDpp             1.477513  0.210903   0.006043\n",
       "BaselineOnly      1.496463  0.003261   0.003701\n",
       "NMF               1.919383  0.153037   0.003998\n",
       "KNNWithMeans      1.931324  0.021301   0.029507\n",
       "KNNWithZScore     1.932458  0.042610   0.009573\n",
       "SlopeOne          1.949127  0.011803   0.004350\n",
       "CoClustering      1.962576  0.120127   0.003607\n",
       "KNNBasic          1.965589  0.012929   0.007509\n",
       "NormalPredictor   2.871344  0.001633   0.003994"
      ]
     },
     "execution_count": 7,
     "metadata": {},
     "output_type": "execute_result"
    }
   ],
   "source": [
    "benchmark = []\n",
    "# Iterate over all algorithms\n",
    "for algorithm in [SVD(), SVDpp(), SlopeOne(), NMF(), NormalPredictor(), KNNBaseline(), KNNBasic(), KNNWithMeans(), KNNWithZScore(), BaselineOnly(), CoClustering()]:\n",
    "    # Perform cross validation\n",
    "    results = cross_validate(algorithm, data, measures=['RMSE'], cv=3, verbose=False)\n",
    "    \n",
    "    # Get results & append algorithm name\n",
    "    tmp = pd.DataFrame.from_dict(results).mean(axis=0)\n",
    "    tmp = tmp.append(pd.Series([str(algorithm).split(' ')[0].split('.')[-1]], index=['Algorithm']))\n",
    "    benchmark.append(tmp)\n",
    "    \n",
    "pd.DataFrame(benchmark).set_index('Algorithm').sort_values('test_rmse')  "
   ]
  },
  {
   "cell_type": "code",
   "execution_count": 8,
   "metadata": {},
   "outputs": [
    {
     "name": "stdout",
     "output_type": "stream",
     "text": [
      "Using ALS\n",
      "Estimating biases using als...\n",
      "Estimating biases using als...\n",
      "Estimating biases using als...\n"
     ]
    },
    {
     "data": {
      "text/plain": [
       "{'test_rmse': array([1.46849486, 1.45392447, 1.43694929]),\n",
       " 'fit_time': (0.002675294876098633,\n",
       "  0.0018351078033447266,\n",
       "  0.002312898635864258),\n",
       " 'test_time': (0.004075050354003906,\n",
       "  0.003183126449584961,\n",
       "  0.003997087478637695)}"
      ]
     },
     "execution_count": 8,
     "metadata": {},
     "output_type": "execute_result"
    }
   ],
   "source": [
    "print('Using ALS')\n",
    "bsl_options = {'method': 'als',\n",
    "               'n_epochs': 5,\n",
    "               'reg_u': 12,\n",
    "               'reg_i': 5\n",
    "               }\n",
    "algo = BaselineOnly(bsl_options=bsl_options)\n",
    "cross_validate(algo, data, measures=['RMSE'], cv=3, verbose=False)"
   ]
  },
  {
   "cell_type": "code",
   "execution_count": 9,
   "metadata": {},
   "outputs": [
    {
     "name": "stdout",
     "output_type": "stream",
     "text": [
      "Estimating biases using als...\n",
      "RMSE: 1.3892\n"
     ]
    },
    {
     "data": {
      "text/plain": [
       "1.3891830625921957"
      ]
     },
     "execution_count": 9,
     "metadata": {},
     "output_type": "execute_result"
    }
   ],
   "source": [
    "trainset, testset = train_test_split(data, test_size=0.25)\n",
    "algo = BaselineOnly(bsl_options=bsl_options)\n",
    "predictions = algo.fit(trainset).test(testset)\n",
    "accuracy.rmse(predictions)\n"
   ]
  },
  {
   "cell_type": "code",
   "execution_count": 10,
   "metadata": {},
   "outputs": [],
   "source": [
    "def get_Iu(uid):\n",
    "    \"\"\" return the number of items rated by given user\n",
    "    args: \n",
    "      uid: the id of the user\n",
    "    returns: \n",
    "      the number of items rated by the user\n",
    "    \"\"\"\n",
    "    try:\n",
    "        return len(trainset.ur[trainset.to_inner_uid(uid)])\n",
    "    except ValueError: # user was not part of the trainset\n",
    "        return 0\n",
    "    \n",
    "def get_Ui(iid):\n",
    "    \"\"\" return number of users that have rated given item\n",
    "    args:\n",
    "      iid: the raw id of the item\n",
    "    returns:\n",
    "      the number of users that have rated the item.\n",
    "    \"\"\"\n",
    "    try: \n",
    "        return len(trainset.ir[trainset.to_inner_iid(iid)])\n",
    "    except ValueError:\n",
    "        return 0\n",
    "    \n",
    "df2 = pd.DataFrame(predictions, columns=['companyId', 'productId', 'rating', 'estimated_rating', 'details'])\n",
    "df2['Iu'] = df2.companyId.apply(get_Iu)\n",
    "df2['Ui'] = df2.productId.apply(get_Ui)\n",
    "df2['err'] = abs(df2.estimated_rating - df2.rating)"
   ]
  },
  {
   "cell_type": "code",
   "execution_count": 11,
   "metadata": {},
   "outputs": [
    {
     "data": {
      "text/html": [
       "<div>\n",
       "<style scoped>\n",
       "    .dataframe tbody tr th:only-of-type {\n",
       "        vertical-align: middle;\n",
       "    }\n",
       "\n",
       "    .dataframe tbody tr th {\n",
       "        vertical-align: top;\n",
       "    }\n",
       "\n",
       "    .dataframe thead th {\n",
       "        text-align: right;\n",
       "    }\n",
       "</style>\n",
       "<table border=\"1\" class=\"dataframe\">\n",
       "  <thead>\n",
       "    <tr style=\"text-align: right;\">\n",
       "      <th></th>\n",
       "      <th>companyID</th>\n",
       "      <th>productId</th>\n",
       "      <th>inferredRating</th>\n",
       "    </tr>\n",
       "  </thead>\n",
       "  <tbody>\n",
       "    <tr>\n",
       "      <th>0</th>\n",
       "      <td>17</td>\n",
       "      <td>3</td>\n",
       "      <td>5</td>\n",
       "    </tr>\n",
       "    <tr>\n",
       "      <th>1</th>\n",
       "      <td>6</td>\n",
       "      <td>3</td>\n",
       "      <td>3</td>\n",
       "    </tr>\n",
       "    <tr>\n",
       "      <th>2</th>\n",
       "      <td>30</td>\n",
       "      <td>3</td>\n",
       "      <td>3</td>\n",
       "    </tr>\n",
       "    <tr>\n",
       "      <th>3</th>\n",
       "      <td>12</td>\n",
       "      <td>3</td>\n",
       "      <td>1</td>\n",
       "    </tr>\n",
       "    <tr>\n",
       "      <th>4</th>\n",
       "      <td>11</td>\n",
       "      <td>3</td>\n",
       "      <td>2</td>\n",
       "    </tr>\n",
       "  </tbody>\n",
       "</table>\n",
       "</div>"
      ],
      "text/plain": [
       "   companyID  productId  inferredRating\n",
       "0         17          3               5\n",
       "1          6          3               3\n",
       "2         30          3               3\n",
       "3         12          3               1\n",
       "4         11          3               2"
      ]
     },
     "execution_count": 11,
     "metadata": {},
     "output_type": "execute_result"
    }
   ],
   "source": [
    "df.head()"
   ]
  },
  {
   "cell_type": "code",
   "execution_count": 12,
   "metadata": {},
   "outputs": [],
   "source": [
    "best_predictions = df2.sort_values(by='err')[:10]\n",
    "worst_predictions = df2.sort_values(by='err')[-10:]"
   ]
  },
  {
   "cell_type": "code",
   "execution_count": 13,
   "metadata": {},
   "outputs": [
    {
     "data": {
      "text/html": [
       "<div>\n",
       "<style scoped>\n",
       "    .dataframe tbody tr th:only-of-type {\n",
       "        vertical-align: middle;\n",
       "    }\n",
       "\n",
       "    .dataframe tbody tr th {\n",
       "        vertical-align: top;\n",
       "    }\n",
       "\n",
       "    .dataframe thead th {\n",
       "        text-align: right;\n",
       "    }\n",
       "</style>\n",
       "<table border=\"1\" class=\"dataframe\">\n",
       "  <thead>\n",
       "    <tr style=\"text-align: right;\">\n",
       "      <th></th>\n",
       "      <th>companyId</th>\n",
       "      <th>productId</th>\n",
       "      <th>rating</th>\n",
       "      <th>estimated_rating</th>\n",
       "      <th>details</th>\n",
       "      <th>Iu</th>\n",
       "      <th>Ui</th>\n",
       "      <th>err</th>\n",
       "    </tr>\n",
       "  </thead>\n",
       "  <tbody>\n",
       "    <tr>\n",
       "      <th>322</th>\n",
       "      <td>2026</td>\n",
       "      <td>2390</td>\n",
       "      <td>3.0</td>\n",
       "      <td>3.003138</td>\n",
       "      <td>{'was_impossible': False}</td>\n",
       "      <td>1</td>\n",
       "      <td>0</td>\n",
       "      <td>0.003138</td>\n",
       "    </tr>\n",
       "    <tr>\n",
       "      <th>124</th>\n",
       "      <td>1987</td>\n",
       "      <td>9</td>\n",
       "      <td>4.0</td>\n",
       "      <td>4.034388</td>\n",
       "      <td>{'was_impossible': False}</td>\n",
       "      <td>1</td>\n",
       "      <td>161</td>\n",
       "      <td>0.034388</td>\n",
       "    </tr>\n",
       "    <tr>\n",
       "      <th>286</th>\n",
       "      <td>1743</td>\n",
       "      <td>13</td>\n",
       "      <td>3.0</td>\n",
       "      <td>2.934843</td>\n",
       "      <td>{'was_impossible': False}</td>\n",
       "      <td>1</td>\n",
       "      <td>23</td>\n",
       "      <td>0.065157</td>\n",
       "    </tr>\n",
       "    <tr>\n",
       "      <th>180</th>\n",
       "      <td>30</td>\n",
       "      <td>3</td>\n",
       "      <td>3.0</td>\n",
       "      <td>2.893783</td>\n",
       "      <td>{'was_impossible': False}</td>\n",
       "      <td>1</td>\n",
       "      <td>4</td>\n",
       "      <td>0.106217</td>\n",
       "    </tr>\n",
       "    <tr>\n",
       "      <th>300</th>\n",
       "      <td>3111</td>\n",
       "      <td>2253</td>\n",
       "      <td>3.0</td>\n",
       "      <td>3.110840</td>\n",
       "      <td>{'was_impossible': False}</td>\n",
       "      <td>1</td>\n",
       "      <td>1</td>\n",
       "      <td>0.110840</td>\n",
       "    </tr>\n",
       "    <tr>\n",
       "      <th>83</th>\n",
       "      <td>2305</td>\n",
       "      <td>1194</td>\n",
       "      <td>3.0</td>\n",
       "      <td>3.112192</td>\n",
       "      <td>{'was_impossible': False}</td>\n",
       "      <td>1</td>\n",
       "      <td>1</td>\n",
       "      <td>0.112192</td>\n",
       "    </tr>\n",
       "    <tr>\n",
       "      <th>214</th>\n",
       "      <td>3919</td>\n",
       "      <td>892</td>\n",
       "      <td>3.0</td>\n",
       "      <td>3.113510</td>\n",
       "      <td>{'was_impossible': False}</td>\n",
       "      <td>1</td>\n",
       "      <td>0</td>\n",
       "      <td>0.113510</td>\n",
       "    </tr>\n",
       "    <tr>\n",
       "      <th>26</th>\n",
       "      <td>1101</td>\n",
       "      <td>364</td>\n",
       "      <td>3.0</td>\n",
       "      <td>3.113510</td>\n",
       "      <td>{'was_impossible': False}</td>\n",
       "      <td>1</td>\n",
       "      <td>0</td>\n",
       "      <td>0.113510</td>\n",
       "    </tr>\n",
       "    <tr>\n",
       "      <th>32</th>\n",
       "      <td>3872</td>\n",
       "      <td>3145</td>\n",
       "      <td>3.0</td>\n",
       "      <td>3.133008</td>\n",
       "      <td>{'was_impossible': False}</td>\n",
       "      <td>1</td>\n",
       "      <td>0</td>\n",
       "      <td>0.133008</td>\n",
       "    </tr>\n",
       "    <tr>\n",
       "      <th>331</th>\n",
       "      <td>2557</td>\n",
       "      <td>1022</td>\n",
       "      <td>3.0</td>\n",
       "      <td>3.133008</td>\n",
       "      <td>{'was_impossible': False}</td>\n",
       "      <td>1</td>\n",
       "      <td>0</td>\n",
       "      <td>0.133008</td>\n",
       "    </tr>\n",
       "  </tbody>\n",
       "</table>\n",
       "</div>"
      ],
      "text/plain": [
       "     companyId  productId  rating  estimated_rating  \\\n",
       "322       2026       2390     3.0          3.003138   \n",
       "124       1987          9     4.0          4.034388   \n",
       "286       1743         13     3.0          2.934843   \n",
       "180         30          3     3.0          2.893783   \n",
       "300       3111       2253     3.0          3.110840   \n",
       "83        2305       1194     3.0          3.112192   \n",
       "214       3919        892     3.0          3.113510   \n",
       "26        1101        364     3.0          3.113510   \n",
       "32        3872       3145     3.0          3.133008   \n",
       "331       2557       1022     3.0          3.133008   \n",
       "\n",
       "                       details  Iu   Ui       err  \n",
       "322  {'was_impossible': False}   1    0  0.003138  \n",
       "124  {'was_impossible': False}   1  161  0.034388  \n",
       "286  {'was_impossible': False}   1   23  0.065157  \n",
       "180  {'was_impossible': False}   1    4  0.106217  \n",
       "300  {'was_impossible': False}   1    1  0.110840  \n",
       "83   {'was_impossible': False}   1    1  0.112192  \n",
       "214  {'was_impossible': False}   1    0  0.113510  \n",
       "26   {'was_impossible': False}   1    0  0.113510  \n",
       "32   {'was_impossible': False}   1    0  0.133008  \n",
       "331  {'was_impossible': False}   1    0  0.133008  "
      ]
     },
     "execution_count": 13,
     "metadata": {},
     "output_type": "execute_result"
    }
   ],
   "source": [
    "best_predictions"
   ]
  },
  {
   "cell_type": "code",
   "execution_count": 14,
   "metadata": {},
   "outputs": [
    {
     "data": {
      "text/html": [
       "<div>\n",
       "<style scoped>\n",
       "    .dataframe tbody tr th:only-of-type {\n",
       "        vertical-align: middle;\n",
       "    }\n",
       "\n",
       "    .dataframe tbody tr th {\n",
       "        vertical-align: top;\n",
       "    }\n",
       "\n",
       "    .dataframe thead th {\n",
       "        text-align: right;\n",
       "    }\n",
       "</style>\n",
       "<table border=\"1\" class=\"dataframe\">\n",
       "  <thead>\n",
       "    <tr style=\"text-align: right;\">\n",
       "      <th></th>\n",
       "      <th>companyId</th>\n",
       "      <th>productId</th>\n",
       "      <th>rating</th>\n",
       "      <th>estimated_rating</th>\n",
       "      <th>details</th>\n",
       "      <th>Iu</th>\n",
       "      <th>Ui</th>\n",
       "      <th>err</th>\n",
       "    </tr>\n",
       "  </thead>\n",
       "  <tbody>\n",
       "    <tr>\n",
       "      <th>169</th>\n",
       "      <td>486</td>\n",
       "      <td>7</td>\n",
       "      <td>1.0</td>\n",
       "      <td>3.806751</td>\n",
       "      <td>{'was_impossible': False}</td>\n",
       "      <td>4</td>\n",
       "      <td>68</td>\n",
       "      <td>2.806751</td>\n",
       "    </tr>\n",
       "    <tr>\n",
       "      <th>76</th>\n",
       "      <td>3593</td>\n",
       "      <td>112</td>\n",
       "      <td>1.0</td>\n",
       "      <td>3.861557</td>\n",
       "      <td>{'was_impossible': False}</td>\n",
       "      <td>1</td>\n",
       "      <td>52</td>\n",
       "      <td>2.861557</td>\n",
       "    </tr>\n",
       "    <tr>\n",
       "      <th>194</th>\n",
       "      <td>786</td>\n",
       "      <td>9</td>\n",
       "      <td>1.0</td>\n",
       "      <td>3.920870</td>\n",
       "      <td>{'was_impossible': False}</td>\n",
       "      <td>2</td>\n",
       "      <td>161</td>\n",
       "      <td>2.920870</td>\n",
       "    </tr>\n",
       "    <tr>\n",
       "      <th>9</th>\n",
       "      <td>789</td>\n",
       "      <td>47</td>\n",
       "      <td>0.0</td>\n",
       "      <td>2.923522</td>\n",
       "      <td>{'was_impossible': False}</td>\n",
       "      <td>5</td>\n",
       "      <td>12</td>\n",
       "      <td>2.923522</td>\n",
       "    </tr>\n",
       "    <tr>\n",
       "      <th>232</th>\n",
       "      <td>587</td>\n",
       "      <td>114</td>\n",
       "      <td>5.0</td>\n",
       "      <td>2.054571</td>\n",
       "      <td>{'was_impossible': False}</td>\n",
       "      <td>0</td>\n",
       "      <td>8</td>\n",
       "      <td>2.945429</td>\n",
       "    </tr>\n",
       "    <tr>\n",
       "      <th>24</th>\n",
       "      <td>611</td>\n",
       "      <td>365</td>\n",
       "      <td>0.0</td>\n",
       "      <td>2.996269</td>\n",
       "      <td>{'was_impossible': False}</td>\n",
       "      <td>2</td>\n",
       "      <td>2</td>\n",
       "      <td>2.996269</td>\n",
       "    </tr>\n",
       "    <tr>\n",
       "      <th>275</th>\n",
       "      <td>1482</td>\n",
       "      <td>9</td>\n",
       "      <td>0.0</td>\n",
       "      <td>3.135762</td>\n",
       "      <td>{'was_impossible': False}</td>\n",
       "      <td>8</td>\n",
       "      <td>161</td>\n",
       "      <td>3.135762</td>\n",
       "    </tr>\n",
       "    <tr>\n",
       "      <th>52</th>\n",
       "      <td>1745</td>\n",
       "      <td>9</td>\n",
       "      <td>1.0</td>\n",
       "      <td>4.215930</td>\n",
       "      <td>{'was_impossible': False}</td>\n",
       "      <td>1</td>\n",
       "      <td>161</td>\n",
       "      <td>3.215930</td>\n",
       "    </tr>\n",
       "    <tr>\n",
       "      <th>198</th>\n",
       "      <td>3644</td>\n",
       "      <td>334</td>\n",
       "      <td>1.0</td>\n",
       "      <td>4.506037</td>\n",
       "      <td>{'was_impossible': False}</td>\n",
       "      <td>0</td>\n",
       "      <td>28</td>\n",
       "      <td>3.506037</td>\n",
       "    </tr>\n",
       "    <tr>\n",
       "      <th>62</th>\n",
       "      <td>1129</td>\n",
       "      <td>373</td>\n",
       "      <td>0.0</td>\n",
       "      <td>3.603916</td>\n",
       "      <td>{'was_impossible': False}</td>\n",
       "      <td>3</td>\n",
       "      <td>7</td>\n",
       "      <td>3.603916</td>\n",
       "    </tr>\n",
       "  </tbody>\n",
       "</table>\n",
       "</div>"
      ],
      "text/plain": [
       "     companyId  productId  rating  estimated_rating  \\\n",
       "169        486          7     1.0          3.806751   \n",
       "76        3593        112     1.0          3.861557   \n",
       "194        786          9     1.0          3.920870   \n",
       "9          789         47     0.0          2.923522   \n",
       "232        587        114     5.0          2.054571   \n",
       "24         611        365     0.0          2.996269   \n",
       "275       1482          9     0.0          3.135762   \n",
       "52        1745          9     1.0          4.215930   \n",
       "198       3644        334     1.0          4.506037   \n",
       "62        1129        373     0.0          3.603916   \n",
       "\n",
       "                       details  Iu   Ui       err  \n",
       "169  {'was_impossible': False}   4   68  2.806751  \n",
       "76   {'was_impossible': False}   1   52  2.861557  \n",
       "194  {'was_impossible': False}   2  161  2.920870  \n",
       "9    {'was_impossible': False}   5   12  2.923522  \n",
       "232  {'was_impossible': False}   0    8  2.945429  \n",
       "24   {'was_impossible': False}   2    2  2.996269  \n",
       "275  {'was_impossible': False}   8  161  3.135762  \n",
       "52   {'was_impossible': False}   1  161  3.215930  \n",
       "198  {'was_impossible': False}   0   28  3.506037  \n",
       "62   {'was_impossible': False}   3    7  3.603916  "
      ]
     },
     "execution_count": 14,
     "metadata": {},
     "output_type": "execute_result"
    }
   ],
   "source": [
    "worst_predictions"
   ]
  },
  {
   "cell_type": "code",
   "execution_count": 15,
   "metadata": {},
   "outputs": [
    {
     "data": {
      "text/plain": [
       "count    90.000000\n",
       "mean      4.577778\n",
       "std       1.091106\n",
       "min       1.000000\n",
       "25%       5.000000\n",
       "50%       5.000000\n",
       "75%       5.000000\n",
       "max       5.000000\n",
       "Name: inferredRating, dtype: float64"
      ]
     },
     "execution_count": 15,
     "metadata": {},
     "output_type": "execute_result"
    }
   ],
   "source": [
    "df.loc[df['productId'] == 7]['inferredRating'].describe()"
   ]
  },
  {
   "cell_type": "code",
   "execution_count": 17,
   "metadata": {},
   "outputs": [
    {
     "data": {
      "application/javascript": [
       "/* Put everything inside the global mpl namespace */\n",
       "window.mpl = {};\n",
       "\n",
       "\n",
       "mpl.get_websocket_type = function() {\n",
       "    if (typeof(WebSocket) !== 'undefined') {\n",
       "        return WebSocket;\n",
       "    } else if (typeof(MozWebSocket) !== 'undefined') {\n",
       "        return MozWebSocket;\n",
       "    } else {\n",
       "        alert('Your browser does not have WebSocket support. ' +\n",
       "              'Please try Chrome, Safari or Firefox ≥ 6. ' +\n",
       "              'Firefox 4 and 5 are also supported but you ' +\n",
       "              'have to enable WebSockets in about:config.');\n",
       "    };\n",
       "}\n",
       "\n",
       "mpl.figure = function(figure_id, websocket, ondownload, parent_element) {\n",
       "    this.id = figure_id;\n",
       "\n",
       "    this.ws = websocket;\n",
       "\n",
       "    this.supports_binary = (this.ws.binaryType != undefined);\n",
       "\n",
       "    if (!this.supports_binary) {\n",
       "        var warnings = document.getElementById(\"mpl-warnings\");\n",
       "        if (warnings) {\n",
       "            warnings.style.display = 'block';\n",
       "            warnings.textContent = (\n",
       "                \"This browser does not support binary websocket messages. \" +\n",
       "                    \"Performance may be slow.\");\n",
       "        }\n",
       "    }\n",
       "\n",
       "    this.imageObj = new Image();\n",
       "\n",
       "    this.context = undefined;\n",
       "    this.message = undefined;\n",
       "    this.canvas = undefined;\n",
       "    this.rubberband_canvas = undefined;\n",
       "    this.rubberband_context = undefined;\n",
       "    this.format_dropdown = undefined;\n",
       "\n",
       "    this.image_mode = 'full';\n",
       "\n",
       "    this.root = $('<div/>');\n",
       "    this._root_extra_style(this.root)\n",
       "    this.root.attr('style', 'display: inline-block');\n",
       "\n",
       "    $(parent_element).append(this.root);\n",
       "\n",
       "    this._init_header(this);\n",
       "    this._init_canvas(this);\n",
       "    this._init_toolbar(this);\n",
       "\n",
       "    var fig = this;\n",
       "\n",
       "    this.waiting = false;\n",
       "\n",
       "    this.ws.onopen =  function () {\n",
       "            fig.send_message(\"supports_binary\", {value: fig.supports_binary});\n",
       "            fig.send_message(\"send_image_mode\", {});\n",
       "            if (mpl.ratio != 1) {\n",
       "                fig.send_message(\"set_dpi_ratio\", {'dpi_ratio': mpl.ratio});\n",
       "            }\n",
       "            fig.send_message(\"refresh\", {});\n",
       "        }\n",
       "\n",
       "    this.imageObj.onload = function() {\n",
       "            if (fig.image_mode == 'full') {\n",
       "                // Full images could contain transparency (where diff images\n",
       "                // almost always do), so we need to clear the canvas so that\n",
       "                // there is no ghosting.\n",
       "                fig.context.clearRect(0, 0, fig.canvas.width, fig.canvas.height);\n",
       "            }\n",
       "            fig.context.drawImage(fig.imageObj, 0, 0);\n",
       "        };\n",
       "\n",
       "    this.imageObj.onunload = function() {\n",
       "        fig.ws.close();\n",
       "    }\n",
       "\n",
       "    this.ws.onmessage = this._make_on_message_function(this);\n",
       "\n",
       "    this.ondownload = ondownload;\n",
       "}\n",
       "\n",
       "mpl.figure.prototype._init_header = function() {\n",
       "    var titlebar = $(\n",
       "        '<div class=\"ui-dialog-titlebar ui-widget-header ui-corner-all ' +\n",
       "        'ui-helper-clearfix\"/>');\n",
       "    var titletext = $(\n",
       "        '<div class=\"ui-dialog-title\" style=\"width: 100%; ' +\n",
       "        'text-align: center; padding: 3px;\"/>');\n",
       "    titlebar.append(titletext)\n",
       "    this.root.append(titlebar);\n",
       "    this.header = titletext[0];\n",
       "}\n",
       "\n",
       "\n",
       "\n",
       "mpl.figure.prototype._canvas_extra_style = function(canvas_div) {\n",
       "\n",
       "}\n",
       "\n",
       "\n",
       "mpl.figure.prototype._root_extra_style = function(canvas_div) {\n",
       "\n",
       "}\n",
       "\n",
       "mpl.figure.prototype._init_canvas = function() {\n",
       "    var fig = this;\n",
       "\n",
       "    var canvas_div = $('<div/>');\n",
       "\n",
       "    canvas_div.attr('style', 'position: relative; clear: both; outline: 0');\n",
       "\n",
       "    function canvas_keyboard_event(event) {\n",
       "        return fig.key_event(event, event['data']);\n",
       "    }\n",
       "\n",
       "    canvas_div.keydown('key_press', canvas_keyboard_event);\n",
       "    canvas_div.keyup('key_release', canvas_keyboard_event);\n",
       "    this.canvas_div = canvas_div\n",
       "    this._canvas_extra_style(canvas_div)\n",
       "    this.root.append(canvas_div);\n",
       "\n",
       "    var canvas = $('<canvas/>');\n",
       "    canvas.addClass('mpl-canvas');\n",
       "    canvas.attr('style', \"left: 0; top: 0; z-index: 0; outline: 0\")\n",
       "\n",
       "    this.canvas = canvas[0];\n",
       "    this.context = canvas[0].getContext(\"2d\");\n",
       "\n",
       "    var backingStore = this.context.backingStorePixelRatio ||\n",
       "\tthis.context.webkitBackingStorePixelRatio ||\n",
       "\tthis.context.mozBackingStorePixelRatio ||\n",
       "\tthis.context.msBackingStorePixelRatio ||\n",
       "\tthis.context.oBackingStorePixelRatio ||\n",
       "\tthis.context.backingStorePixelRatio || 1;\n",
       "\n",
       "    mpl.ratio = (window.devicePixelRatio || 1) / backingStore;\n",
       "\n",
       "    var rubberband = $('<canvas/>');\n",
       "    rubberband.attr('style', \"position: absolute; left: 0; top: 0; z-index: 1;\")\n",
       "\n",
       "    var pass_mouse_events = true;\n",
       "\n",
       "    canvas_div.resizable({\n",
       "        start: function(event, ui) {\n",
       "            pass_mouse_events = false;\n",
       "        },\n",
       "        resize: function(event, ui) {\n",
       "            fig.request_resize(ui.size.width, ui.size.height);\n",
       "        },\n",
       "        stop: function(event, ui) {\n",
       "            pass_mouse_events = true;\n",
       "            fig.request_resize(ui.size.width, ui.size.height);\n",
       "        },\n",
       "    });\n",
       "\n",
       "    function mouse_event_fn(event) {\n",
       "        if (pass_mouse_events)\n",
       "            return fig.mouse_event(event, event['data']);\n",
       "    }\n",
       "\n",
       "    rubberband.mousedown('button_press', mouse_event_fn);\n",
       "    rubberband.mouseup('button_release', mouse_event_fn);\n",
       "    // Throttle sequential mouse events to 1 every 20ms.\n",
       "    rubberband.mousemove('motion_notify', mouse_event_fn);\n",
       "\n",
       "    rubberband.mouseenter('figure_enter', mouse_event_fn);\n",
       "    rubberband.mouseleave('figure_leave', mouse_event_fn);\n",
       "\n",
       "    canvas_div.on(\"wheel\", function (event) {\n",
       "        event = event.originalEvent;\n",
       "        event['data'] = 'scroll'\n",
       "        if (event.deltaY < 0) {\n",
       "            event.step = 1;\n",
       "        } else {\n",
       "            event.step = -1;\n",
       "        }\n",
       "        mouse_event_fn(event);\n",
       "    });\n",
       "\n",
       "    canvas_div.append(canvas);\n",
       "    canvas_div.append(rubberband);\n",
       "\n",
       "    this.rubberband = rubberband;\n",
       "    this.rubberband_canvas = rubberband[0];\n",
       "    this.rubberband_context = rubberband[0].getContext(\"2d\");\n",
       "    this.rubberband_context.strokeStyle = \"#000000\";\n",
       "\n",
       "    this._resize_canvas = function(width, height) {\n",
       "        // Keep the size of the canvas, canvas container, and rubber band\n",
       "        // canvas in synch.\n",
       "        canvas_div.css('width', width)\n",
       "        canvas_div.css('height', height)\n",
       "\n",
       "        canvas.attr('width', width * mpl.ratio);\n",
       "        canvas.attr('height', height * mpl.ratio);\n",
       "        canvas.attr('style', 'width: ' + width + 'px; height: ' + height + 'px;');\n",
       "\n",
       "        rubberband.attr('width', width);\n",
       "        rubberband.attr('height', height);\n",
       "    }\n",
       "\n",
       "    // Set the figure to an initial 600x600px, this will subsequently be updated\n",
       "    // upon first draw.\n",
       "    this._resize_canvas(600, 600);\n",
       "\n",
       "    // Disable right mouse context menu.\n",
       "    $(this.rubberband_canvas).bind(\"contextmenu\",function(e){\n",
       "        return false;\n",
       "    });\n",
       "\n",
       "    function set_focus () {\n",
       "        canvas.focus();\n",
       "        canvas_div.focus();\n",
       "    }\n",
       "\n",
       "    window.setTimeout(set_focus, 100);\n",
       "}\n",
       "\n",
       "mpl.figure.prototype._init_toolbar = function() {\n",
       "    var fig = this;\n",
       "\n",
       "    var nav_element = $('<div/>');\n",
       "    nav_element.attr('style', 'width: 100%');\n",
       "    this.root.append(nav_element);\n",
       "\n",
       "    // Define a callback function for later on.\n",
       "    function toolbar_event(event) {\n",
       "        return fig.toolbar_button_onclick(event['data']);\n",
       "    }\n",
       "    function toolbar_mouse_event(event) {\n",
       "        return fig.toolbar_button_onmouseover(event['data']);\n",
       "    }\n",
       "\n",
       "    for(var toolbar_ind in mpl.toolbar_items) {\n",
       "        var name = mpl.toolbar_items[toolbar_ind][0];\n",
       "        var tooltip = mpl.toolbar_items[toolbar_ind][1];\n",
       "        var image = mpl.toolbar_items[toolbar_ind][2];\n",
       "        var method_name = mpl.toolbar_items[toolbar_ind][3];\n",
       "\n",
       "        if (!name) {\n",
       "            // put a spacer in here.\n",
       "            continue;\n",
       "        }\n",
       "        var button = $('<button/>');\n",
       "        button.addClass('ui-button ui-widget ui-state-default ui-corner-all ' +\n",
       "                        'ui-button-icon-only');\n",
       "        button.attr('role', 'button');\n",
       "        button.attr('aria-disabled', 'false');\n",
       "        button.click(method_name, toolbar_event);\n",
       "        button.mouseover(tooltip, toolbar_mouse_event);\n",
       "\n",
       "        var icon_img = $('<span/>');\n",
       "        icon_img.addClass('ui-button-icon-primary ui-icon');\n",
       "        icon_img.addClass(image);\n",
       "        icon_img.addClass('ui-corner-all');\n",
       "\n",
       "        var tooltip_span = $('<span/>');\n",
       "        tooltip_span.addClass('ui-button-text');\n",
       "        tooltip_span.html(tooltip);\n",
       "\n",
       "        button.append(icon_img);\n",
       "        button.append(tooltip_span);\n",
       "\n",
       "        nav_element.append(button);\n",
       "    }\n",
       "\n",
       "    var fmt_picker_span = $('<span/>');\n",
       "\n",
       "    var fmt_picker = $('<select/>');\n",
       "    fmt_picker.addClass('mpl-toolbar-option ui-widget ui-widget-content');\n",
       "    fmt_picker_span.append(fmt_picker);\n",
       "    nav_element.append(fmt_picker_span);\n",
       "    this.format_dropdown = fmt_picker[0];\n",
       "\n",
       "    for (var ind in mpl.extensions) {\n",
       "        var fmt = mpl.extensions[ind];\n",
       "        var option = $(\n",
       "            '<option/>', {selected: fmt === mpl.default_extension}).html(fmt);\n",
       "        fmt_picker.append(option);\n",
       "    }\n",
       "\n",
       "    // Add hover states to the ui-buttons\n",
       "    $( \".ui-button\" ).hover(\n",
       "        function() { $(this).addClass(\"ui-state-hover\");},\n",
       "        function() { $(this).removeClass(\"ui-state-hover\");}\n",
       "    );\n",
       "\n",
       "    var status_bar = $('<span class=\"mpl-message\"/>');\n",
       "    nav_element.append(status_bar);\n",
       "    this.message = status_bar[0];\n",
       "}\n",
       "\n",
       "mpl.figure.prototype.request_resize = function(x_pixels, y_pixels) {\n",
       "    // Request matplotlib to resize the figure. Matplotlib will then trigger a resize in the client,\n",
       "    // which will in turn request a refresh of the image.\n",
       "    this.send_message('resize', {'width': x_pixels, 'height': y_pixels});\n",
       "}\n",
       "\n",
       "mpl.figure.prototype.send_message = function(type, properties) {\n",
       "    properties['type'] = type;\n",
       "    properties['figure_id'] = this.id;\n",
       "    this.ws.send(JSON.stringify(properties));\n",
       "}\n",
       "\n",
       "mpl.figure.prototype.send_draw_message = function() {\n",
       "    if (!this.waiting) {\n",
       "        this.waiting = true;\n",
       "        this.ws.send(JSON.stringify({type: \"draw\", figure_id: this.id}));\n",
       "    }\n",
       "}\n",
       "\n",
       "\n",
       "mpl.figure.prototype.handle_save = function(fig, msg) {\n",
       "    var format_dropdown = fig.format_dropdown;\n",
       "    var format = format_dropdown.options[format_dropdown.selectedIndex].value;\n",
       "    fig.ondownload(fig, format);\n",
       "}\n",
       "\n",
       "\n",
       "mpl.figure.prototype.handle_resize = function(fig, msg) {\n",
       "    var size = msg['size'];\n",
       "    if (size[0] != fig.canvas.width || size[1] != fig.canvas.height) {\n",
       "        fig._resize_canvas(size[0], size[1]);\n",
       "        fig.send_message(\"refresh\", {});\n",
       "    };\n",
       "}\n",
       "\n",
       "mpl.figure.prototype.handle_rubberband = function(fig, msg) {\n",
       "    var x0 = msg['x0'] / mpl.ratio;\n",
       "    var y0 = (fig.canvas.height - msg['y0']) / mpl.ratio;\n",
       "    var x1 = msg['x1'] / mpl.ratio;\n",
       "    var y1 = (fig.canvas.height - msg['y1']) / mpl.ratio;\n",
       "    x0 = Math.floor(x0) + 0.5;\n",
       "    y0 = Math.floor(y0) + 0.5;\n",
       "    x1 = Math.floor(x1) + 0.5;\n",
       "    y1 = Math.floor(y1) + 0.5;\n",
       "    var min_x = Math.min(x0, x1);\n",
       "    var min_y = Math.min(y0, y1);\n",
       "    var width = Math.abs(x1 - x0);\n",
       "    var height = Math.abs(y1 - y0);\n",
       "\n",
       "    fig.rubberband_context.clearRect(\n",
       "        0, 0, fig.canvas.width / mpl.ratio, fig.canvas.height / mpl.ratio);\n",
       "\n",
       "    fig.rubberband_context.strokeRect(min_x, min_y, width, height);\n",
       "}\n",
       "\n",
       "mpl.figure.prototype.handle_figure_label = function(fig, msg) {\n",
       "    // Updates the figure title.\n",
       "    fig.header.textContent = msg['label'];\n",
       "}\n",
       "\n",
       "mpl.figure.prototype.handle_cursor = function(fig, msg) {\n",
       "    var cursor = msg['cursor'];\n",
       "    switch(cursor)\n",
       "    {\n",
       "    case 0:\n",
       "        cursor = 'pointer';\n",
       "        break;\n",
       "    case 1:\n",
       "        cursor = 'default';\n",
       "        break;\n",
       "    case 2:\n",
       "        cursor = 'crosshair';\n",
       "        break;\n",
       "    case 3:\n",
       "        cursor = 'move';\n",
       "        break;\n",
       "    }\n",
       "    fig.rubberband_canvas.style.cursor = cursor;\n",
       "}\n",
       "\n",
       "mpl.figure.prototype.handle_message = function(fig, msg) {\n",
       "    fig.message.textContent = msg['message'];\n",
       "}\n",
       "\n",
       "mpl.figure.prototype.handle_draw = function(fig, msg) {\n",
       "    // Request the server to send over a new figure.\n",
       "    fig.send_draw_message();\n",
       "}\n",
       "\n",
       "mpl.figure.prototype.handle_image_mode = function(fig, msg) {\n",
       "    fig.image_mode = msg['mode'];\n",
       "}\n",
       "\n",
       "mpl.figure.prototype.updated_canvas_event = function() {\n",
       "    // Called whenever the canvas gets updated.\n",
       "    this.send_message(\"ack\", {});\n",
       "}\n",
       "\n",
       "// A function to construct a web socket function for onmessage handling.\n",
       "// Called in the figure constructor.\n",
       "mpl.figure.prototype._make_on_message_function = function(fig) {\n",
       "    return function socket_on_message(evt) {\n",
       "        if (evt.data instanceof Blob) {\n",
       "            /* FIXME: We get \"Resource interpreted as Image but\n",
       "             * transferred with MIME type text/plain:\" errors on\n",
       "             * Chrome.  But how to set the MIME type?  It doesn't seem\n",
       "             * to be part of the websocket stream */\n",
       "            evt.data.type = \"image/png\";\n",
       "\n",
       "            /* Free the memory for the previous frames */\n",
       "            if (fig.imageObj.src) {\n",
       "                (window.URL || window.webkitURL).revokeObjectURL(\n",
       "                    fig.imageObj.src);\n",
       "            }\n",
       "\n",
       "            fig.imageObj.src = (window.URL || window.webkitURL).createObjectURL(\n",
       "                evt.data);\n",
       "            fig.updated_canvas_event();\n",
       "            fig.waiting = false;\n",
       "            return;\n",
       "        }\n",
       "        else if (typeof evt.data === 'string' && evt.data.slice(0, 21) == \"data:image/png;base64\") {\n",
       "            fig.imageObj.src = evt.data;\n",
       "            fig.updated_canvas_event();\n",
       "            fig.waiting = false;\n",
       "            return;\n",
       "        }\n",
       "\n",
       "        var msg = JSON.parse(evt.data);\n",
       "        var msg_type = msg['type'];\n",
       "\n",
       "        // Call the  \"handle_{type}\" callback, which takes\n",
       "        // the figure and JSON message as its only arguments.\n",
       "        try {\n",
       "            var callback = fig[\"handle_\" + msg_type];\n",
       "        } catch (e) {\n",
       "            console.log(\"No handler for the '\" + msg_type + \"' message type: \", msg);\n",
       "            return;\n",
       "        }\n",
       "\n",
       "        if (callback) {\n",
       "            try {\n",
       "                // console.log(\"Handling '\" + msg_type + \"' message: \", msg);\n",
       "                callback(fig, msg);\n",
       "            } catch (e) {\n",
       "                console.log(\"Exception inside the 'handler_\" + msg_type + \"' callback:\", e, e.stack, msg);\n",
       "            }\n",
       "        }\n",
       "    };\n",
       "}\n",
       "\n",
       "// from http://stackoverflow.com/questions/1114465/getting-mouse-location-in-canvas\n",
       "mpl.findpos = function(e) {\n",
       "    //this section is from http://www.quirksmode.org/js/events_properties.html\n",
       "    var targ;\n",
       "    if (!e)\n",
       "        e = window.event;\n",
       "    if (e.target)\n",
       "        targ = e.target;\n",
       "    else if (e.srcElement)\n",
       "        targ = e.srcElement;\n",
       "    if (targ.nodeType == 3) // defeat Safari bug\n",
       "        targ = targ.parentNode;\n",
       "\n",
       "    // jQuery normalizes the pageX and pageY\n",
       "    // pageX,Y are the mouse positions relative to the document\n",
       "    // offset() returns the position of the element relative to the document\n",
       "    var x = e.pageX - $(targ).offset().left;\n",
       "    var y = e.pageY - $(targ).offset().top;\n",
       "\n",
       "    return {\"x\": x, \"y\": y};\n",
       "};\n",
       "\n",
       "/*\n",
       " * return a copy of an object with only non-object keys\n",
       " * we need this to avoid circular references\n",
       " * http://stackoverflow.com/a/24161582/3208463\n",
       " */\n",
       "function simpleKeys (original) {\n",
       "  return Object.keys(original).reduce(function (obj, key) {\n",
       "    if (typeof original[key] !== 'object')\n",
       "        obj[key] = original[key]\n",
       "    return obj;\n",
       "  }, {});\n",
       "}\n",
       "\n",
       "mpl.figure.prototype.mouse_event = function(event, name) {\n",
       "    var canvas_pos = mpl.findpos(event)\n",
       "\n",
       "    if (name === 'button_press')\n",
       "    {\n",
       "        this.canvas.focus();\n",
       "        this.canvas_div.focus();\n",
       "    }\n",
       "\n",
       "    var x = canvas_pos.x * mpl.ratio;\n",
       "    var y = canvas_pos.y * mpl.ratio;\n",
       "\n",
       "    this.send_message(name, {x: x, y: y, button: event.button,\n",
       "                             step: event.step,\n",
       "                             guiEvent: simpleKeys(event)});\n",
       "\n",
       "    /* This prevents the web browser from automatically changing to\n",
       "     * the text insertion cursor when the button is pressed.  We want\n",
       "     * to control all of the cursor setting manually through the\n",
       "     * 'cursor' event from matplotlib */\n",
       "    event.preventDefault();\n",
       "    return false;\n",
       "}\n",
       "\n",
       "mpl.figure.prototype._key_event_extra = function(event, name) {\n",
       "    // Handle any extra behaviour associated with a key event\n",
       "}\n",
       "\n",
       "mpl.figure.prototype.key_event = function(event, name) {\n",
       "\n",
       "    // Prevent repeat events\n",
       "    if (name == 'key_press')\n",
       "    {\n",
       "        if (event.which === this._key)\n",
       "            return;\n",
       "        else\n",
       "            this._key = event.which;\n",
       "    }\n",
       "    if (name == 'key_release')\n",
       "        this._key = null;\n",
       "\n",
       "    var value = '';\n",
       "    if (event.ctrlKey && event.which != 17)\n",
       "        value += \"ctrl+\";\n",
       "    if (event.altKey && event.which != 18)\n",
       "        value += \"alt+\";\n",
       "    if (event.shiftKey && event.which != 16)\n",
       "        value += \"shift+\";\n",
       "\n",
       "    value += 'k';\n",
       "    value += event.which.toString();\n",
       "\n",
       "    this._key_event_extra(event, name);\n",
       "\n",
       "    this.send_message(name, {key: value,\n",
       "                             guiEvent: simpleKeys(event)});\n",
       "    return false;\n",
       "}\n",
       "\n",
       "mpl.figure.prototype.toolbar_button_onclick = function(name) {\n",
       "    if (name == 'download') {\n",
       "        this.handle_save(this, null);\n",
       "    } else {\n",
       "        this.send_message(\"toolbar_button\", {name: name});\n",
       "    }\n",
       "};\n",
       "\n",
       "mpl.figure.prototype.toolbar_button_onmouseover = function(tooltip) {\n",
       "    this.message.textContent = tooltip;\n",
       "};\n",
       "mpl.toolbar_items = [[\"Home\", \"Reset original view\", \"fa fa-home icon-home\", \"home\"], [\"Back\", \"Back to previous view\", \"fa fa-arrow-left icon-arrow-left\", \"back\"], [\"Forward\", \"Forward to next view\", \"fa fa-arrow-right icon-arrow-right\", \"forward\"], [\"\", \"\", \"\", \"\"], [\"Pan\", \"Pan axes with left mouse, zoom with right\", \"fa fa-arrows icon-move\", \"pan\"], [\"Zoom\", \"Zoom to rectangle\", \"fa fa-square-o icon-check-empty\", \"zoom\"], [\"\", \"\", \"\", \"\"], [\"Download\", \"Download plot\", \"fa fa-floppy-o icon-save\", \"download\"]];\n",
       "\n",
       "mpl.extensions = [\"eps\", \"pdf\", \"png\", \"ps\", \"raw\", \"svg\"];\n",
       "\n",
       "mpl.default_extension = \"png\";var comm_websocket_adapter = function(comm) {\n",
       "    // Create a \"websocket\"-like object which calls the given IPython comm\n",
       "    // object with the appropriate methods. Currently this is a non binary\n",
       "    // socket, so there is still some room for performance tuning.\n",
       "    var ws = {};\n",
       "\n",
       "    ws.close = function() {\n",
       "        comm.close()\n",
       "    };\n",
       "    ws.send = function(m) {\n",
       "        //console.log('sending', m);\n",
       "        comm.send(m);\n",
       "    };\n",
       "    // Register the callback with on_msg.\n",
       "    comm.on_msg(function(msg) {\n",
       "        //console.log('receiving', msg['content']['data'], msg);\n",
       "        // Pass the mpl event to the overridden (by mpl) onmessage function.\n",
       "        ws.onmessage(msg['content']['data'])\n",
       "    });\n",
       "    return ws;\n",
       "}\n",
       "\n",
       "mpl.mpl_figure_comm = function(comm, msg) {\n",
       "    // This is the function which gets called when the mpl process\n",
       "    // starts-up an IPython Comm through the \"matplotlib\" channel.\n",
       "\n",
       "    var id = msg.content.data.id;\n",
       "    // Get hold of the div created by the display call when the Comm\n",
       "    // socket was opened in Python.\n",
       "    var element = $(\"#\" + id);\n",
       "    var ws_proxy = comm_websocket_adapter(comm)\n",
       "\n",
       "    function ondownload(figure, format) {\n",
       "        window.open(figure.imageObj.src);\n",
       "    }\n",
       "\n",
       "    var fig = new mpl.figure(id, ws_proxy,\n",
       "                           ondownload,\n",
       "                           element.get(0));\n",
       "\n",
       "    // Call onopen now - mpl needs it, as it is assuming we've passed it a real\n",
       "    // web socket which is closed, not our websocket->open comm proxy.\n",
       "    ws_proxy.onopen();\n",
       "\n",
       "    fig.parent_element = element.get(0);\n",
       "    fig.cell_info = mpl.find_output_cell(\"<div id='\" + id + \"'></div>\");\n",
       "    if (!fig.cell_info) {\n",
       "        console.error(\"Failed to find cell for figure\", id, fig);\n",
       "        return;\n",
       "    }\n",
       "\n",
       "    var output_index = fig.cell_info[2]\n",
       "    var cell = fig.cell_info[0];\n",
       "\n",
       "};\n",
       "\n",
       "mpl.figure.prototype.handle_close = function(fig, msg) {\n",
       "    var width = fig.canvas.width/mpl.ratio\n",
       "    fig.root.unbind('remove')\n",
       "\n",
       "    // Update the output cell to use the data from the current canvas.\n",
       "    fig.push_to_output();\n",
       "    var dataURL = fig.canvas.toDataURL();\n",
       "    // Re-enable the keyboard manager in IPython - without this line, in FF,\n",
       "    // the notebook keyboard shortcuts fail.\n",
       "    IPython.keyboard_manager.enable()\n",
       "    $(fig.parent_element).html('<img src=\"' + dataURL + '\" width=\"' + width + '\">');\n",
       "    fig.close_ws(fig, msg);\n",
       "}\n",
       "\n",
       "mpl.figure.prototype.close_ws = function(fig, msg){\n",
       "    fig.send_message('closing', msg);\n",
       "    // fig.ws.close()\n",
       "}\n",
       "\n",
       "mpl.figure.prototype.push_to_output = function(remove_interactive) {\n",
       "    // Turn the data on the canvas into data in the output cell.\n",
       "    var width = this.canvas.width/mpl.ratio\n",
       "    var dataURL = this.canvas.toDataURL();\n",
       "    this.cell_info[1]['text/html'] = '<img src=\"' + dataURL + '\" width=\"' + width + '\">';\n",
       "}\n",
       "\n",
       "mpl.figure.prototype.updated_canvas_event = function() {\n",
       "    // Tell IPython that the notebook contents must change.\n",
       "    IPython.notebook.set_dirty(true);\n",
       "    this.send_message(\"ack\", {});\n",
       "    var fig = this;\n",
       "    // Wait a second, then push the new image to the DOM so\n",
       "    // that it is saved nicely (might be nice to debounce this).\n",
       "    setTimeout(function () { fig.push_to_output() }, 1000);\n",
       "}\n",
       "\n",
       "mpl.figure.prototype._init_toolbar = function() {\n",
       "    var fig = this;\n",
       "\n",
       "    var nav_element = $('<div/>');\n",
       "    nav_element.attr('style', 'width: 100%');\n",
       "    this.root.append(nav_element);\n",
       "\n",
       "    // Define a callback function for later on.\n",
       "    function toolbar_event(event) {\n",
       "        return fig.toolbar_button_onclick(event['data']);\n",
       "    }\n",
       "    function toolbar_mouse_event(event) {\n",
       "        return fig.toolbar_button_onmouseover(event['data']);\n",
       "    }\n",
       "\n",
       "    for(var toolbar_ind in mpl.toolbar_items){\n",
       "        var name = mpl.toolbar_items[toolbar_ind][0];\n",
       "        var tooltip = mpl.toolbar_items[toolbar_ind][1];\n",
       "        var image = mpl.toolbar_items[toolbar_ind][2];\n",
       "        var method_name = mpl.toolbar_items[toolbar_ind][3];\n",
       "\n",
       "        if (!name) { continue; };\n",
       "\n",
       "        var button = $('<button class=\"btn btn-default\" href=\"#\" title=\"' + name + '\"><i class=\"fa ' + image + ' fa-lg\"></i></button>');\n",
       "        button.click(method_name, toolbar_event);\n",
       "        button.mouseover(tooltip, toolbar_mouse_event);\n",
       "        nav_element.append(button);\n",
       "    }\n",
       "\n",
       "    // Add the status bar.\n",
       "    var status_bar = $('<span class=\"mpl-message\" style=\"text-align:right; float: right;\"/>');\n",
       "    nav_element.append(status_bar);\n",
       "    this.message = status_bar[0];\n",
       "\n",
       "    // Add the close button to the window.\n",
       "    var buttongrp = $('<div class=\"btn-group inline pull-right\"></div>');\n",
       "    var button = $('<button class=\"btn btn-mini btn-primary\" href=\"#\" title=\"Stop Interaction\"><i class=\"fa fa-power-off icon-remove icon-large\"></i></button>');\n",
       "    button.click(function (evt) { fig.handle_close(fig, {}); } );\n",
       "    button.mouseover('Stop Interaction', toolbar_mouse_event);\n",
       "    buttongrp.append(button);\n",
       "    var titlebar = this.root.find($('.ui-dialog-titlebar'));\n",
       "    titlebar.prepend(buttongrp);\n",
       "}\n",
       "\n",
       "mpl.figure.prototype._root_extra_style = function(el){\n",
       "    var fig = this\n",
       "    el.on(\"remove\", function(){\n",
       "\tfig.close_ws(fig, {});\n",
       "    });\n",
       "}\n",
       "\n",
       "mpl.figure.prototype._canvas_extra_style = function(el){\n",
       "    // this is important to make the div 'focusable\n",
       "    el.attr('tabindex', 0)\n",
       "    // reach out to IPython and tell the keyboard manager to turn it's self\n",
       "    // off when our div gets focus\n",
       "\n",
       "    // location in version 3\n",
       "    if (IPython.notebook.keyboard_manager) {\n",
       "        IPython.notebook.keyboard_manager.register_events(el);\n",
       "    }\n",
       "    else {\n",
       "        // location in version 2\n",
       "        IPython.keyboard_manager.register_events(el);\n",
       "    }\n",
       "\n",
       "}\n",
       "\n",
       "mpl.figure.prototype._key_event_extra = function(event, name) {\n",
       "    var manager = IPython.notebook.keyboard_manager;\n",
       "    if (!manager)\n",
       "        manager = IPython.keyboard_manager;\n",
       "\n",
       "    // Check for shift+enter\n",
       "    if (event.shiftKey && event.which == 13) {\n",
       "        this.canvas_div.blur();\n",
       "        event.shiftKey = false;\n",
       "        // Send a \"J\" for go to next cell\n",
       "        event.which = 74;\n",
       "        event.keyCode = 74;\n",
       "        manager.command_mode();\n",
       "        manager.handle_keydown(event);\n",
       "    }\n",
       "}\n",
       "\n",
       "mpl.figure.prototype.handle_save = function(fig, msg) {\n",
       "    fig.ondownload(fig, null);\n",
       "}\n",
       "\n",
       "\n",
       "mpl.find_output_cell = function(html_output) {\n",
       "    // Return the cell and output element which can be found *uniquely* in the notebook.\n",
       "    // Note - this is a bit hacky, but it is done because the \"notebook_saving.Notebook\"\n",
       "    // IPython event is triggered only after the cells have been serialised, which for\n",
       "    // our purposes (turning an active figure into a static one), is too late.\n",
       "    var cells = IPython.notebook.get_cells();\n",
       "    var ncells = cells.length;\n",
       "    for (var i=0; i<ncells; i++) {\n",
       "        var cell = cells[i];\n",
       "        if (cell.cell_type === 'code'){\n",
       "            for (var j=0; j<cell.output_area.outputs.length; j++) {\n",
       "                var data = cell.output_area.outputs[j];\n",
       "                if (data.data) {\n",
       "                    // IPython >= 3 moved mimebundle to data attribute of output\n",
       "                    data = data.data;\n",
       "                }\n",
       "                if (data['text/html'] == html_output) {\n",
       "                    return [cell, data, j];\n",
       "                }\n",
       "            }\n",
       "        }\n",
       "    }\n",
       "}\n",
       "\n",
       "// Register the function which deals with the matplotlib target/channel.\n",
       "// The kernel may be null if the page has been refreshed.\n",
       "if (IPython.notebook.kernel != null) {\n",
       "    IPython.notebook.kernel.comm_manager.register_target('matplotlib', mpl.mpl_figure_comm);\n",
       "}\n"
      ],
      "text/plain": [
       "<IPython.core.display.Javascript object>"
      ]
     },
     "metadata": {},
     "output_type": "display_data"
    },
    {
     "data": {
      "text/html": [
       "<img src=\"data:image/png;base64,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\" width=\"640\">"
      ],
      "text/plain": [
       "<IPython.core.display.HTML object>"
      ]
     },
     "metadata": {},
     "output_type": "display_data"
    }
   ],
   "source": [
    "from collections import Counter\n",
    "\n",
    "import matplotlib.pyplot as plt\n",
    "import matplotlib\n",
    "%matplotlib notebook\n",
    "\n",
    "df.loc[df['productId'] == 7]['inferredRating'].hist()\n",
    "plt.xlabel('rating')\n",
    "plt.ylabel('Number of ratings')\n",
    "plt.title('Number of ratings productId 7 has received')\n",
    "plt.show();"
   ]
  }
 ],
 "metadata": {
  "kernelspec": {
   "display_name": "Python 3",
   "language": "python",
   "name": "python3"
  },
  "language_info": {
   "codemirror_mode": {
    "name": "ipython",
    "version": 3
   },
   "file_extension": ".py",
   "mimetype": "text/x-python",
   "name": "python",
   "nbconvert_exporter": "python",
   "pygments_lexer": "ipython3",
   "version": "3.7.3"
  }
 },
 "nbformat": 4,
 "nbformat_minor": 2
}
